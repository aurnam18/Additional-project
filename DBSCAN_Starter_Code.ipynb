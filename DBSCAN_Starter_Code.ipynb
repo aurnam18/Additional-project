{
  "nbformat": 4,
  "nbformat_minor": 0,
  "metadata": {
    "kernelspec": {
      "display_name": "Python 3",
      "language": "python",
      "name": "python3"
    },
    "language_info": {
      "codemirror_mode": {
        "name": "ipython",
        "version": 3
      },
      "file_extension": ".py",
      "mimetype": "text/x-python",
      "name": "python",
      "nbconvert_exporter": "python",
      "pygments_lexer": "ipython3",
      "version": "3.8.3"
    },
    "colab": {
      "name": "DBSCAN-Starter-Code.ipynb",
      "provenance": [],
      "toc_visible": true,
      "include_colab_link": true
    }
  },
  "cells": [
    {
      "cell_type": "markdown",
      "metadata": {
        "id": "view-in-github",
        "colab_type": "text"
      },
      "source": [
        "<a href=\"https://colab.research.google.com/github/aurnam18/Additional-project/blob/master/DBSCAN_Starter_Code.ipynb\" target=\"_parent\"><img src=\"https://colab.research.google.com/assets/colab-badge.svg\" alt=\"Open In Colab\"/></a>"
      ]
    },
    {
      "cell_type": "markdown",
      "metadata": {
        "id": "7R3dk4M9m9xs",
        "colab_type": "text"
      },
      "source": [
        "# DBSCAN Starter Code"
      ]
    },
    {
      "cell_type": "markdown",
      "metadata": {
        "id": "KjTcik50m9xt",
        "colab_type": "text"
      },
      "source": [
        "Import all the required libraries."
      ]
    },
    {
      "cell_type": "code",
      "metadata": {
        "id": "ZoJEm_XQm9xu",
        "colab_type": "code",
        "colab": {}
      },
      "source": [
        "import pandas as pd\n",
        "import numpy as np\n",
        "from sklearn.cluster import DBSCAN\n",
        "from sklearn.neighbors import NearestNeighbors\n",
        "from sklearn.preprocessing import StandardScaler\n",
        "from numpy import where\n",
        "import matplotlib.pyplot as plt"
      ],
      "execution_count": 54,
      "outputs": []
    },
    {
      "cell_type": "markdown",
      "metadata": {
        "id": "yN_M7ZlUm9x0",
        "colab_type": "text"
      },
      "source": [
        "### The Dataset"
      ]
    },
    {
      "cell_type": "markdown",
      "metadata": {
        "id": "0_Wh9UoJm9x0",
        "colab_type": "text"
      },
      "source": [
        "Wholesale customers data: The data is hosted on the UCI Machine Learning repository. The aim of this problem is to segment the clients of a wholesale distributor based on their annual spending on diverse product categories, like milk, grocery, region, etc."
      ]
    },
    {
      "cell_type": "markdown",
      "metadata": {
        "id": "yZGu9SB4m9x1",
        "colab_type": "text"
      },
      "source": [
        "[Link to dataset](https://archive.ics.uci.edu/ml/machine-learning-databases/00292/Wholesale%20customers%20data.csv)"
      ]
    },
    {
      "cell_type": "markdown",
      "metadata": {
        "id": "7IFKVlJbm9x2",
        "colab_type": "text"
      },
      "source": [
        "The following command imports the dataset from the file you downloaded:"
      ]
    },
    {
      "cell_type": "code",
      "metadata": {
        "id": "JwJi0Lm0m9x2",
        "colab_type": "code",
        "colab": {}
      },
      "source": [
        "dataset = pd.read_csv('customers.csv')"
      ],
      "execution_count": 55,
      "outputs": []
    },
    {
      "cell_type": "markdown",
      "metadata": {
        "id": "jFwRr2Ugm9x5",
        "colab_type": "text"
      },
      "source": [
        "Let’s explore the data a little bit by checking the number of rows and columns in it."
      ]
    },
    {
      "cell_type": "code",
      "metadata": {
        "id": "q9D1YpGrm9x6",
        "colab_type": "code",
        "colab": {
          "base_uri": "https://localhost:8080/",
          "height": 34
        },
        "outputId": "7ed607c5-cdb9-461a-8dfe-7ba09dda37eb"
      },
      "source": [
        "dataset.shape"
      ],
      "execution_count": 56,
      "outputs": [
        {
          "output_type": "execute_result",
          "data": {
            "text/plain": [
              "(440, 8)"
            ]
          },
          "metadata": {
            "tags": []
          },
          "execution_count": 56
        }
      ]
    },
    {
      "cell_type": "markdown",
      "metadata": {
        "id": "dwy1SsgZm9x-",
        "colab_type": "text"
      },
      "source": [
        "It will give (440, 8) as output which means our dataset has 440 rows and 8 columns."
      ]
    },
    {
      "cell_type": "markdown",
      "metadata": {
        "id": "KAsXUJhWm9x_",
        "colab_type": "text"
      },
      "source": [
        "To see the first five rows of the dataset, we can use head():"
      ]
    },
    {
      "cell_type": "code",
      "metadata": {
        "id": "mbrqwbC7m9yA",
        "colab_type": "code",
        "colab": {
          "base_uri": "https://localhost:8080/",
          "height": 195
        },
        "outputId": "9fbc86f5-4d4f-4e58-c991-6a9f97521742"
      },
      "source": [
        "dataset.head()"
      ],
      "execution_count": 57,
      "outputs": [
        {
          "output_type": "execute_result",
          "data": {
            "text/html": [
              "<div>\n",
              "<style scoped>\n",
              "    .dataframe tbody tr th:only-of-type {\n",
              "        vertical-align: middle;\n",
              "    }\n",
              "\n",
              "    .dataframe tbody tr th {\n",
              "        vertical-align: top;\n",
              "    }\n",
              "\n",
              "    .dataframe thead th {\n",
              "        text-align: right;\n",
              "    }\n",
              "</style>\n",
              "<table border=\"1\" class=\"dataframe\">\n",
              "  <thead>\n",
              "    <tr style=\"text-align: right;\">\n",
              "      <th></th>\n",
              "      <th>Channel</th>\n",
              "      <th>Region</th>\n",
              "      <th>Fresh</th>\n",
              "      <th>Milk</th>\n",
              "      <th>Grocery</th>\n",
              "      <th>Frozen</th>\n",
              "      <th>Detergents_Paper</th>\n",
              "      <th>Delicassen</th>\n",
              "    </tr>\n",
              "  </thead>\n",
              "  <tbody>\n",
              "    <tr>\n",
              "      <th>0</th>\n",
              "      <td>2</td>\n",
              "      <td>3</td>\n",
              "      <td>12669</td>\n",
              "      <td>9656</td>\n",
              "      <td>7561</td>\n",
              "      <td>214</td>\n",
              "      <td>2674</td>\n",
              "      <td>1338</td>\n",
              "    </tr>\n",
              "    <tr>\n",
              "      <th>1</th>\n",
              "      <td>2</td>\n",
              "      <td>3</td>\n",
              "      <td>7057</td>\n",
              "      <td>9810</td>\n",
              "      <td>9568</td>\n",
              "      <td>1762</td>\n",
              "      <td>3293</td>\n",
              "      <td>1776</td>\n",
              "    </tr>\n",
              "    <tr>\n",
              "      <th>2</th>\n",
              "      <td>2</td>\n",
              "      <td>3</td>\n",
              "      <td>6353</td>\n",
              "      <td>8808</td>\n",
              "      <td>7684</td>\n",
              "      <td>2405</td>\n",
              "      <td>3516</td>\n",
              "      <td>7844</td>\n",
              "    </tr>\n",
              "    <tr>\n",
              "      <th>3</th>\n",
              "      <td>1</td>\n",
              "      <td>3</td>\n",
              "      <td>13265</td>\n",
              "      <td>1196</td>\n",
              "      <td>4221</td>\n",
              "      <td>6404</td>\n",
              "      <td>507</td>\n",
              "      <td>1788</td>\n",
              "    </tr>\n",
              "    <tr>\n",
              "      <th>4</th>\n",
              "      <td>2</td>\n",
              "      <td>3</td>\n",
              "      <td>22615</td>\n",
              "      <td>5410</td>\n",
              "      <td>7198</td>\n",
              "      <td>3915</td>\n",
              "      <td>1777</td>\n",
              "      <td>5185</td>\n",
              "    </tr>\n",
              "  </tbody>\n",
              "</table>\n",
              "</div>"
            ],
            "text/plain": [
              "   Channel  Region  Fresh  Milk  Grocery  Frozen  Detergents_Paper  Delicassen\n",
              "0        2       3  12669  9656     7561     214              2674        1338\n",
              "1        2       3   7057  9810     9568    1762              3293        1776\n",
              "2        2       3   6353  8808     7684    2405              3516        7844\n",
              "3        1       3  13265  1196     4221    6404               507        1788\n",
              "4        2       3  22615  5410     7198    3915              1777        5185"
            ]
          },
          "metadata": {
            "tags": []
          },
          "execution_count": 57
        }
      ]
    },
    {
      "cell_type": "markdown",
      "metadata": {
        "id": "EPWF4ImPm9yG",
        "colab_type": "text"
      },
      "source": [
        "FRESH: annual spending (m.u.) on fresh products (Continuous) <br />\n",
        "MILK: annual spending (m.u.) on milk products (Continuous) <br />\n",
        "GROCERY: annual spending (m.u.)on grocery products (Continuous) <br />\n",
        "FROZEN: annual spending (m.u.)on frozen products (Continuous) <br />\n",
        "DETERGENTS_PAPER: annual spending (m.u.) on detergents and paper products (Continuous) <br />\n",
        "DELICATESSEN: annual spending (m.u.)on and delicatessen products (Continuous)"
      ]
    },
    {
      "cell_type": "markdown",
      "metadata": {
        "id": "wrkYbwpym9yH",
        "colab_type": "text"
      },
      "source": [
        "Let's the columns Milk and Grocery."
      ]
    },
    {
      "cell_type": "markdown",
      "metadata": {
        "id": "RXH9tOgDm9yH",
        "colab_type": "text"
      },
      "source": [
        "We'll check the dataset by visualizing it in a plot."
      ]
    },
    {
      "cell_type": "code",
      "metadata": {
        "id": "-piB4ebMm9yI",
        "colab_type": "code",
        "colab": {
          "base_uri": "https://localhost:8080/",
          "height": 279
        },
        "outputId": "440acf26-7035-4413-9f60-fdc0fd37fd91"
      },
      "source": [
        "# Create variable x and set it to the Grocery column\n",
        "X = dataset['Grocery'].values\n",
        "# Create variable y and set it to the Milk column\n",
        "y = dataset['Milk'].values\n",
        "# Create a scatter plot of x,y\n",
        "plt.scatter(X, y)\n",
        "plt.xlabel(\"Groceries\")\n",
        "plt.ylabel(\"Milk\")\n",
        "plt.show()"
      ],
      "execution_count": 58,
      "outputs": [
        {
          "output_type": "display_data",
          "data": {
            "image/png": "[encoded data removed]",
            "text/plain": [
              "<Figure size 432x288 with 1 Axes>"
            ]
          },
          "metadata": {
            "tags": [],
            "needs_background": "light"
          }
        }
      ]
    },
    {
      "cell_type": "markdown",
      "metadata": {
        "id": "P8UunbAcm9yP",
        "colab_type": "text"
      },
      "source": [
        "Because the values of the data are in the thousands, you are going to normalize each attribute by scaling it to 0 mean and unit variance. What is does basically is it helps to keep the inter-relationships between the features intact so that a small change in one feature would reflect in the other."
      ]
    },
    {
      "cell_type": "code",
      "metadata": {
        "id": "ZtgVSU12m9yQ",
        "colab_type": "code",
        "colab": {}
      },
      "source": [
        "dataset = dataset[[\"Grocery\", \"Milk\"]]\n",
        "stscaler = StandardScaler().fit(dataset)\n",
        "dataset = stscaler.transform(dataset)"
      ],
      "execution_count": 59,
      "outputs": []
    },
    {
      "cell_type": "markdown",
      "metadata": {
        "id": "da03fcGBm9yT",
        "colab_type": "text"
      },
      "source": [
        "### Determine the Epsilon"
      ]
    },
    {
      "cell_type": "markdown",
      "metadata": {
        "id": "Zcwsm-80m9yU",
        "colab_type": "text"
      },
      "source": [
        "We can calculate the distance from each point to its closest neighbour using the NearestNeighbors. The point itself is included in n_neighbors. The kneighbors method returns two arrays, one which contains the distance to the closest n_neighbors points and the other which contains the index for each of those points."
      ]
    },
    {
      "cell_type": "code",
      "metadata": {
        "id": "32Krh1pvm9yU",
        "colab_type": "code",
        "colab": {}
      },
      "source": [
        "# Create a variable named neigh and set it equal to NearestNeighbors(n_neighbors=2)\n",
        "neigh = NearestNeighbors(n_neighbors=2)\n",
        "# Fit dataset to the model as a variable called nbrs\n",
        "nbrs = neigh.fit(dataset)\n",
        "# Set distances, indices equal to nbrs.kneighbors(dataset)\n",
        "distances, indices = nbrs.kneighbors(dataset)"
      ],
      "execution_count": 60,
      "outputs": []
    },
    {
      "cell_type": "markdown",
      "metadata": {
        "id": "aGPJVt97m9yX",
        "colab_type": "text"
      },
      "source": [
        "Next, we sort and plot results."
      ]
    },
    {
      "cell_type": "code",
      "metadata": {
        "id": "n_KQU3YMm9yY",
        "colab_type": "code",
        "colab": {
          "base_uri": "https://localhost:8080/",
          "height": 282
        },
        "outputId": "4ef2b814-60f8-469a-bcb5-f8657dc9f672"
      },
      "source": [
        "distances = np.sort(distances, axis=0)\n",
        "distances = distances[:,1]\n",
        "plt.plot(distances)"
      ],
      "execution_count": 61,
      "outputs": [
        {
          "output_type": "execute_result",
          "data": {
            "text/plain": [
              "[<matplotlib.lines.Line2D at 0x7f71b832c978>]"
            ]
          },
          "metadata": {
            "tags": []
          },
          "execution_count": 61
        },
        {
          "output_type": "display_data",
          "data": {
            "image/png": "[encoded data removed]",
            "text/plain": [
              "<Figure size 432x288 with 1 Axes>"
            ]
          },
          "metadata": {
            "tags": [],
            "needs_background": "light"
          }
        }
      ]
    },
    {
      "cell_type": "markdown",
      "metadata": {
        "id": "X9UBYLwVm9yb",
        "colab_type": "text"
      },
      "source": [
        "The optimal value for epsilon will be found at the point of maximum curvature."
      ]
    },
    {
      "cell_type": "markdown",
      "metadata": {
        "id": "RLU8vvmam9yc",
        "colab_type": "text"
      },
      "source": [
        "### Define the Model and Anomaly Detection"
      ]
    },
    {
      "cell_type": "markdown",
      "metadata": {
        "id": "5G2mPF5um9yd",
        "colab_type": "text"
      },
      "source": [
        "We'll define the model by using the DBSCAN class of Scikit-learn API. We'll define the 'eps' and 'min_sample' in the arguments of the class. The argument 'eps' is the distance between two samples to be considered as a neighborhood and 'min_samples' is the number of samples in a neighborhood."
      ]
    },
    {
      "cell_type": "code",
      "metadata": {
        "id": "DWExSb7em9ye",
        "colab_type": "code",
        "colab": {
          "base_uri": "https://localhost:8080/",
          "height": 52
        },
        "outputId": "0c6e0fe9-6a92-45c0-d9be-aaa02b119feb"
      },
      "source": [
        "# Create a DBSCAN model and use the appropriate esp according to the graph above\n",
        "# Use 15 as min_samples\n",
        "dbscan = DBSCAN(eps = 0.7, min_samples = 15)\n",
        "print(dbscan) "
      ],
      "execution_count": 62,
      "outputs": [
        {
          "output_type": "stream",
          "text": [
            "DBSCAN(algorithm='auto', eps=0.7, leaf_size=30, metric='euclidean',\n",
            "       metric_params=None, min_samples=15, n_jobs=None, p=None)\n"
          ],
          "name": "stdout"
        }
      ]
    },
    {
      "cell_type": "markdown",
      "metadata": {
        "id": "NP9PvT_Xm9yi",
        "colab_type": "text"
      },
      "source": [
        "We'll fit the model with x dataset and get the prediction data with the fit_predict() method."
      ]
    },
    {
      "cell_type": "code",
      "metadata": {
        "id": "cZfaGTpNm9yk",
        "colab_type": "code",
        "colab": {}
      },
      "source": [
        "# Get prediction data from your model using fit_predict()\n",
        "pred = dbscan.fit_predict(dataset)"
      ],
      "execution_count": 63,
      "outputs": []
    },
    {
      "cell_type": "markdown",
      "metadata": {
        "id": "9tVLX0Nhm9yq",
        "colab_type": "text"
      },
      "source": [
        "Next, we'll extract the negative outputs as the outliers."
      ]
    },
    {
      "cell_type": "code",
      "metadata": {
        "id": "PSQdn6vLm9yr",
        "colab_type": "code",
        "colab": {}
      },
      "source": [
        "anom_index = where(pred == -1)\n",
        "values = dataset[anom_index]"
      ],
      "execution_count": 64,
      "outputs": []
    },
    {
      "cell_type": "markdown",
      "metadata": {
        "id": "40j83Bhgm9yv",
        "colab_type": "text"
      },
      "source": [
        "Finally, we'll visualize the results in a plot by highlighting the anomalies with a color."
      ]
    },
    {
      "cell_type": "code",
      "metadata": {
        "id": "77Qco1fVm9yv",
        "colab_type": "code",
        "colab": {
          "base_uri": "https://localhost:8080/",
          "height": 265
        },
        "outputId": "a714f5b7-7c6b-4c06-e3e3-dfadfcc378ad"
      },
      "source": [
        "plt.scatter(dataset[:,0], dataset[:,1])\n",
        "plt.scatter(values[:,0], values[:,1], color='r')\n",
        "plt.show()"
      ],
      "execution_count": 65,
      "outputs": [
        {
          "output_type": "display_data",
          "data": {
            "image/png": "[encoded data removed]",
            "text/plain": [
              "<Figure size 432x288 with 1 Axes>"
            ]
          },
          "metadata": {
            "tags": [],
            "needs_background": "light"
          }
        }
      ]
    },
    {
      "cell_type": "markdown",
      "metadata": {
        "id": "FaNeAc05m9yy",
        "colab_type": "text"
      },
      "source": [
        "Now we've found the outliers!"
      ]
    },
    {
      "cell_type": "markdown",
      "metadata": {
        "id": "GL5ZdIgYm9yz",
        "colab_type": "text"
      },
      "source": [
        "Lining up with the intuition, the DBSCAN algorithm was able to identify one cluster of customers who are around the mean grocery and mean milk product purchases. In addition, it was able to flag customers whose annual purchasing behavior deviated too heavily from other customers."
      ]
    },
    {
      "cell_type": "markdown",
      "metadata": {
        "id": "73sUGRndm9yz",
        "colab_type": "text"
      },
      "source": [
        "Because the outliers corresponded to customers with more extreme purchasing behavior, the wholesale distributor could specifically target these customers with exclusive discounts to encourage larger purchases."
      ]
    }
  ]
}
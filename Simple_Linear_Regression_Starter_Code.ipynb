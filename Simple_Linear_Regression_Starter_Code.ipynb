{
  "nbformat": 4,
  "nbformat_minor": 0,
  "metadata": {
    "kernelspec": {
      "display_name": "Python 3",
      "language": "python",
      "name": "python3"
    },
    "language_info": {
      "codemirror_mode": {
        "name": "ipython",
        "version": 3
      },
      "file_extension": ".py",
      "mimetype": "text/x-python",
      "name": "python",
      "nbconvert_exporter": "python",
      "pygments_lexer": "ipython3",
      "version": "3.8.3"
    },
    "colab": {
      "name": "Simple-Linear-Regression-Starter-Code.ipynb",
      "provenance": [],
      "include_colab_link": true
    }
  },
  "cells": [
    {
      "cell_type": "markdown",
      "metadata": {
        "id": "view-in-github",
        "colab_type": "text"
      },
      "source": [
        "<a href=\"https://colab.research.google.com/github/aurnam18/Additional-project/blob/master/Simple_Linear_Regression_Starter_Code.ipynb\" target=\"_parent\"><img src=\"https://colab.research.google.com/assets/colab-badge.svg\" alt=\"Open In Colab\"/></a>"
      ]
    },
    {
      "cell_type": "markdown",
      "metadata": {
        "id": "sWrlN45grmNZ",
        "colab_type": "text"
      },
      "source": [
        "# Simple Linear Regression (Starter Code)"
      ]
    },
    {
      "cell_type": "markdown",
      "metadata": {
        "id": "7sLdAzglrmNb",
        "colab_type": "text"
      },
      "source": [
        "Import all the required libraries"
      ]
    },
    {
      "cell_type": "code",
      "metadata": {
        "id": "fxoVb6EQrmNd",
        "colab_type": "code",
        "colab": {
          "base_uri": "https://localhost:8080/",
          "height": 72
        },
        "outputId": "0d90af79-efd3-40dd-97ad-8317c7d654ec"
      },
      "source": [
        "import pandas as pd  \n",
        "import numpy as np  \n",
        "import matplotlib.pyplot as plt  \n",
        "import seaborn as seabornInstance \n",
        "from sklearn.model_selection import train_test_split \n",
        "from sklearn.linear_model import LinearRegression\n",
        "from sklearn import metrics\n",
        "%matplotlib inline"
      ],
      "execution_count": 3,
      "outputs": [
        {
          "output_type": "stream",
          "text": [
            "/usr/local/lib/python3.6/dist-packages/statsmodels/tools/_testing.py:19: FutureWarning: pandas.util.testing is deprecated. Use the functions in the public API at pandas.testing instead.\n",
            "  import pandas.util.testing as tm\n"
          ],
          "name": "stderr"
        }
      ]
    },
    {
      "cell_type": "markdown",
      "metadata": {
        "id": "3LKJGEBFrmNi",
        "colab_type": "text"
      },
      "source": [
        "### The Dataset"
      ]
    },
    {
      "cell_type": "markdown",
      "metadata": {
        "id": "RsHBWRQLrmNj",
        "colab_type": "text"
      },
      "source": [
        "Cricket Chirp vs Temperature: Simulated data - approximates cricket chirps to temperature changes"
      ]
    },
    {
      "cell_type": "markdown",
      "metadata": {
        "id": "oE-OFlehrmNk",
        "colab_type": "text"
      },
      "source": [
        "[Link to dataset](https://www.kaggle.com/hershyandrew/cricket-chirp-vs-temperature)"
      ]
    },
    {
      "cell_type": "markdown",
      "metadata": {
        "id": "L6unlMo-rmNl",
        "colab_type": "text"
      },
      "source": [
        "The following command imports the CSV dataset using pandas"
      ]
    },
    {
      "cell_type": "markdown",
      "metadata": {
        "id": "XtxiKFcErmNl",
        "colab_type": "text"
      },
      "source": [
        "Paste the path to \"Cricket_chirps.csv\" below"
      ]
    },
    {
      "cell_type": "code",
      "metadata": {
        "id": "Jsts7l5MrmNm",
        "colab_type": "code",
        "colab": {}
      },
      "source": [
        "dataset = pd.read_csv('Cricket_chirps.csv')"
      ],
      "execution_count": 4,
      "outputs": []
    },
    {
      "cell_type": "markdown",
      "metadata": {
        "id": "NoFWoGmFrmNq",
        "colab_type": "text"
      },
      "source": [
        "Practice checking the number of rows and columns below:"
      ]
    },
    {
      "cell_type": "code",
      "metadata": {
        "id": "1YfblPMbrmNr",
        "colab_type": "code",
        "colab": {
          "base_uri": "https://localhost:8080/",
          "height": 34
        },
        "outputId": "5afbc6bf-f20a-4efa-a9e3-d7eca3773f18"
      },
      "source": [
        "dataset.shape"
      ],
      "execution_count": 5,
      "outputs": [
        {
          "output_type": "execute_result",
          "data": {
            "text/plain": [
              "(1499, 2)"
            ]
          },
          "metadata": {
            "tags": []
          },
          "execution_count": 5
        }
      ]
    },
    {
      "cell_type": "markdown",
      "metadata": {
        "id": "0fUZmLzermNu",
        "colab_type": "text"
      },
      "source": [
        "You should receive output as (1499, 2), which means the data contains 1499 rows and 2 columns."
      ]
    },
    {
      "cell_type": "markdown",
      "metadata": {
        "id": "uiTN-YSTrmNv",
        "colab_type": "text"
      },
      "source": [
        "To see the statistical details of the dataset, we can use describe()"
      ]
    },
    {
      "cell_type": "code",
      "metadata": {
        "scrolled": true,
        "id": "kZ9PFct9rmNw",
        "colab_type": "code",
        "colab": {
          "base_uri": "https://localhost:8080/",
          "height": 284
        },
        "outputId": "39458b8c-e9b7-4b3b-8010-12533fcfc8ce"
      },
      "source": [
        "dataset.describe()"
      ],
      "execution_count": 6,
      "outputs": [
        {
          "output_type": "execute_result",
          "data": {
            "text/html": [
              "<div>\n",
              "<style scoped>\n",
              "    .dataframe tbody tr th:only-of-type {\n",
              "        vertical-align: middle;\n",
              "    }\n",
              "\n",
              "    .dataframe tbody tr th {\n",
              "        vertical-align: top;\n",
              "    }\n",
              "\n",
              "    .dataframe thead th {\n",
              "        text-align: right;\n",
              "    }\n",
              "</style>\n",
              "<table border=\"1\" class=\"dataframe\">\n",
              "  <thead>\n",
              "    <tr style=\"text-align: right;\">\n",
              "      <th></th>\n",
              "      <th>X</th>\n",
              "      <th>Y</th>\n",
              "    </tr>\n",
              "  </thead>\n",
              "  <tbody>\n",
              "    <tr>\n",
              "      <th>count</th>\n",
              "      <td>1499.000000</td>\n",
              "      <td>1499.000000</td>\n",
              "    </tr>\n",
              "    <tr>\n",
              "      <th>mean</th>\n",
              "      <td>76.096464</td>\n",
              "      <td>17.258839</td>\n",
              "    </tr>\n",
              "    <tr>\n",
              "      <th>std</th>\n",
              "      <td>8.307777</td>\n",
              "      <td>1.799267</td>\n",
              "    </tr>\n",
              "    <tr>\n",
              "      <th>min</th>\n",
              "      <td>62.000000</td>\n",
              "      <td>13.000000</td>\n",
              "    </tr>\n",
              "    <tr>\n",
              "      <th>25%</th>\n",
              "      <td>69.000000</td>\n",
              "      <td>16.000000</td>\n",
              "    </tr>\n",
              "    <tr>\n",
              "      <th>50%</th>\n",
              "      <td>76.000000</td>\n",
              "      <td>17.000000</td>\n",
              "    </tr>\n",
              "    <tr>\n",
              "      <th>75%</th>\n",
              "      <td>83.000000</td>\n",
              "      <td>18.000000</td>\n",
              "    </tr>\n",
              "    <tr>\n",
              "      <th>max</th>\n",
              "      <td>93.300003</td>\n",
              "      <td>22.000000</td>\n",
              "    </tr>\n",
              "  </tbody>\n",
              "</table>\n",
              "</div>"
            ],
            "text/plain": [
              "                 X            Y\n",
              "count  1499.000000  1499.000000\n",
              "mean     76.096464    17.258839\n",
              "std       8.307777     1.799267\n",
              "min      62.000000    13.000000\n",
              "25%      69.000000    16.000000\n",
              "50%      76.000000    17.000000\n",
              "75%      83.000000    18.000000\n",
              "max      93.300003    22.000000"
            ]
          },
          "metadata": {
            "tags": []
          },
          "execution_count": 6
        }
      ]
    },
    {
      "cell_type": "markdown",
      "metadata": {
        "id": "Imi0vJtDrmNz",
        "colab_type": "text"
      },
      "source": [
        "X: chirps/sec for the striped ground cricket <br />\n",
        "Y: temperature in degrees Fahrenheit"
      ]
    },
    {
      "cell_type": "markdown",
      "metadata": {
        "id": "lx7eFwebrmN0",
        "colab_type": "text"
      },
      "source": [
        "### Plot the Dataset"
      ]
    },
    {
      "cell_type": "markdown",
      "metadata": {
        "id": "HQvKq4szrmN1",
        "colab_type": "text"
      },
      "source": [
        "Let’s plot our data points on a 2-D graph to eyeball our dataset and see if we can manually find any relationship between the data using the below script"
      ]
    },
    {
      "cell_type": "code",
      "metadata": {
        "id": "KF_lVm6ormN1",
        "colab_type": "code",
        "colab": {
          "base_uri": "https://localhost:8080/",
          "height": 295
        },
        "outputId": "3792e6a0-d9f3-4aea-9e17-105590acfb21"
      },
      "source": [
        "# Plot X and Y just like the example from Live Lesson 1\n",
        "dataset.plot(x='X', y='Y', style='o')\n",
        "plt.title('Temperature vs Cricket Chirps')  \n",
        "plt.xlabel('Temperature')  \n",
        "plt.ylabel('Cricket Chirps')  \n",
        "plt.show()"
      ],
      "execution_count": 15,
      "outputs": [
        {
          "output_type": "display_data",
          "data": {
            "image/png": "[encoded data removed]",
            "text/plain": [
              "<Figure size 432x288 with 1 Axes>"
            ]
          },
          "metadata": {
            "tags": [],
            "needs_background": "light"
          }
        }
      ]
    },
    {
      "cell_type": "markdown",
      "metadata": {
        "id": "K_0Jq_u3rmN5",
        "colab_type": "text"
      },
      "source": [
        "We have taken Temperature and Cricket Chirps for doing our analysis. Above is a 2-D graph between Temperature and Cricket Chirps. It looks pretty linear."
      ]
    },
    {
      "cell_type": "markdown",
      "metadata": {
        "id": "Dj65aHihrmN6",
        "colab_type": "text"
      },
      "source": [
        "### Split up the Dataset Into Attributes and Labels"
      ]
    },
    {
      "cell_type": "markdown",
      "metadata": {
        "id": "D_ZSoJcsrmN7",
        "colab_type": "text"
      },
      "source": [
        "Our next step is to divide the data into “attributes” and “labels”."
      ]
    },
    {
      "cell_type": "markdown",
      "metadata": {
        "id": "QsmaicfwrmN7",
        "colab_type": "text"
      },
      "source": [
        "Attributes are the independent variables while labels are dependent variables whose values are to be predicted."
      ]
    },
    {
      "cell_type": "markdown",
      "metadata": {
        "id": "IVoQenX9rmN8",
        "colab_type": "text"
      },
      "source": [
        "In our dataset, we only have two columns. We want to predict the Cricket Chirps depending upon the Temperature recorded. Therefore our attribute set will consist of the “Temperature” column which is stored in the X variable, and the label will be the “Cricket Chirps” column which is stored in y variable."
      ]
    },
    {
      "cell_type": "code",
      "metadata": {
        "id": "AjvLpWx8rmN8",
        "colab_type": "code",
        "colab": {}
      },
      "source": [
        "X = dataset['X'].values.reshape(-1, 1)\n",
        "y = dataset['Y'].values.reshape(-1, 1)"
      ],
      "execution_count": 19,
      "outputs": []
    },
    {
      "cell_type": "markdown",
      "metadata": {
        "id": "9XINSG5GrmN_",
        "colab_type": "text"
      },
      "source": [
        "We use .reshape(-1,1) because dataset['Y'].values and dataset['X'].values are one-dimensional arrays, but the LinearRegression() function requires two-dimensional arrays. .reshape(-1,1) takes the data you have and converts it to a two-dimensional array."
      ]
    },
    {
      "cell_type": "markdown",
      "metadata": {
        "id": "cNKAUhZErmOA",
        "colab_type": "text"
      },
      "source": [
        "### Split the Dataset Into Train and Test Data"
      ]
    },
    {
      "cell_type": "markdown",
      "metadata": {
        "id": "dnyPC_oyrmOD",
        "colab_type": "text"
      },
      "source": [
        "We are going to use test/train split for Model Evaluation."
      ]
    },
    {
      "cell_type": "markdown",
      "metadata": {
        "id": "iRC7jJ35rmOD",
        "colab_type": "text"
      },
      "source": [
        "Next, we split 80% of the data to the training set while 20% of the data to test set using below code. The test_size variable is where we actually specify the proportion of the test set."
      ]
    },
    {
      "cell_type": "code",
      "metadata": {
        "id": "JV_ynmgMrmOE",
        "colab_type": "code",
        "colab": {}
      },
      "source": [
        "X_train, X_test, y_train, y_test = train_test_split(X, y, test_size=0.2, random_state=0)"
      ],
      "execution_count": 20,
      "outputs": []
    },
    {
      "cell_type": "markdown",
      "metadata": {
        "id": "eDxGm_rOrmOI",
        "colab_type": "text"
      },
      "source": [
        "### Build and Train the Model"
      ]
    },
    {
      "cell_type": "markdown",
      "metadata": {
        "id": "h0KlpFwbrmOI",
        "colab_type": "text"
      },
      "source": [
        "After splitting the data into training and testing sets, finally, the time is to train our algorithm. For that, we need to import LinearRegression class, instantiate it, and call the fit() method along with our training data."
      ]
    },
    {
      "cell_type": "code",
      "metadata": {
        "id": "w_TIZjeyrmOJ",
        "colab_type": "code",
        "colab": {
          "base_uri": "https://localhost:8080/",
          "height": 34
        },
        "outputId": "fe43e2bf-6e22-40c9-b4f4-8ceafe1edc6f"
      },
      "source": [
        "regressor = LinearRegression()  \n",
        "regressor.fit(X_train, y_train) #training the algorithm"
      ],
      "execution_count": 21,
      "outputs": [
        {
          "output_type": "execute_result",
          "data": {
            "text/plain": [
              "LinearRegression(copy_X=True, fit_intercept=True, n_jobs=None, normalize=False)"
            ]
          },
          "metadata": {
            "tags": []
          },
          "execution_count": 21
        }
      ]
    },
    {
      "cell_type": "markdown",
      "metadata": {
        "id": "ZkUTHiUvrmOM",
        "colab_type": "text"
      },
      "source": [
        "As we have discussed that the linear regression model basically finds the best value for the intercept and slope, which results in a line that best fits the data. To see the value of the intercept and slope calculated by the linear regression algorithm for our dataset, execute the following code."
      ]
    },
    {
      "cell_type": "code",
      "metadata": {
        "id": "4FVjWJUnrmOM",
        "colab_type": "code",
        "colab": {
          "base_uri": "https://localhost:8080/",
          "height": 52
        },
        "outputId": "add385aa-1752-4f88-97f9-dd6bd8de1663"
      },
      "source": [
        "#To retrieve the intercept:\n",
        "print(regressor.intercept_)\n",
        "#For retrieving the slope:\n",
        "print(regressor.coef_)"
      ],
      "execution_count": 22,
      "outputs": [
        {
          "output_type": "stream",
          "text": [
            "[5.19717806]\n",
            "[[0.15792252]]\n"
          ],
          "name": "stdout"
        }
      ]
    },
    {
      "cell_type": "markdown",
      "metadata": {
        "id": "b1aappVfrmOP",
        "colab_type": "text"
      },
      "source": [
        "The result should be approximately 5.19717806 and 0.15792252 respectively. It might be a little different depending on the test/train split. This means that for every one unit of change in temperature, the change in the cricket chirps is about 5.197%."
      ]
    },
    {
      "cell_type": "markdown",
      "metadata": {
        "id": "uvoJR936rmOP",
        "colab_type": "text"
      },
      "source": [
        "### Make Predictions Using the Model"
      ]
    },
    {
      "cell_type": "markdown",
      "metadata": {
        "id": "o0-xFLy2rmOQ",
        "colab_type": "text"
      },
      "source": [
        "Now that we have trained our algorithm, it’s time to make some predictions. To do so, we will use our test data and see how accurately our algorithm predicts the percentage score. To make predictions on the test data, execute the following script:"
      ]
    },
    {
      "cell_type": "code",
      "metadata": {
        "id": "1Fze1BX8rmOR",
        "colab_type": "code",
        "colab": {}
      },
      "source": [
        "y_pred = regressor.predict(X_test)"
      ],
      "execution_count": 23,
      "outputs": []
    },
    {
      "cell_type": "code",
      "metadata": {
        "id": "dKSB4WburmOU",
        "colab_type": "code",
        "colab": {
          "base_uri": "https://localhost:8080/",
          "height": 402
        },
        "outputId": "c7762785-4da4-4180-a3aa-8e4346b6cf3c"
      },
      "source": [
        "df = pd.DataFrame({'Actual': y_test.flatten(), 'Predicted': y_pred.flatten()})\n",
        "df"
      ],
      "execution_count": 24,
      "outputs": [
        {
          "output_type": "execute_result",
          "data": {
            "text/html": [
              "<div>\n",
              "<style scoped>\n",
              "    .dataframe tbody tr th:only-of-type {\n",
              "        vertical-align: middle;\n",
              "    }\n",
              "\n",
              "    .dataframe tbody tr th {\n",
              "        vertical-align: top;\n",
              "    }\n",
              "\n",
              "    .dataframe thead th {\n",
              "        text-align: right;\n",
              "    }\n",
              "</style>\n",
              "<table border=\"1\" class=\"dataframe\">\n",
              "  <thead>\n",
              "    <tr style=\"text-align: right;\">\n",
              "      <th></th>\n",
              "      <th>Actual</th>\n",
              "      <th>Predicted</th>\n",
              "    </tr>\n",
              "  </thead>\n",
              "  <tbody>\n",
              "    <tr>\n",
              "      <th>0</th>\n",
              "      <td>16</td>\n",
              "      <td>17.515134</td>\n",
              "    </tr>\n",
              "    <tr>\n",
              "      <th>1</th>\n",
              "      <td>18</td>\n",
              "      <td>18.352124</td>\n",
              "    </tr>\n",
              "    <tr>\n",
              "      <th>2</th>\n",
              "      <td>16</td>\n",
              "      <td>14.988374</td>\n",
              "    </tr>\n",
              "    <tr>\n",
              "      <th>3</th>\n",
              "      <td>19</td>\n",
              "      <td>17.515134</td>\n",
              "    </tr>\n",
              "    <tr>\n",
              "      <th>4</th>\n",
              "      <td>13</td>\n",
              "      <td>15.304219</td>\n",
              "    </tr>\n",
              "    <tr>\n",
              "      <th>...</th>\n",
              "      <td>...</td>\n",
              "      <td>...</td>\n",
              "    </tr>\n",
              "    <tr>\n",
              "      <th>295</th>\n",
              "      <td>18</td>\n",
              "      <td>19.252282</td>\n",
              "    </tr>\n",
              "    <tr>\n",
              "      <th>296</th>\n",
              "      <td>16</td>\n",
              "      <td>15.146297</td>\n",
              "    </tr>\n",
              "    <tr>\n",
              "      <th>297</th>\n",
              "      <td>17</td>\n",
              "      <td>17.041367</td>\n",
              "    </tr>\n",
              "    <tr>\n",
              "      <th>298</th>\n",
              "      <td>17</td>\n",
              "      <td>19.410205</td>\n",
              "    </tr>\n",
              "    <tr>\n",
              "      <th>299</th>\n",
              "      <td>17</td>\n",
              "      <td>17.357212</td>\n",
              "    </tr>\n",
              "  </tbody>\n",
              "</table>\n",
              "<p>300 rows × 2 columns</p>\n",
              "</div>"
            ],
            "text/plain": [
              "     Actual  Predicted\n",
              "0        16  17.515134\n",
              "1        18  18.352124\n",
              "2        16  14.988374\n",
              "3        19  17.515134\n",
              "4        13  15.304219\n",
              "..      ...        ...\n",
              "295      18  19.252282\n",
              "296      16  15.146297\n",
              "297      17  17.041367\n",
              "298      17  19.410205\n",
              "299      17  17.357212\n",
              "\n",
              "[300 rows x 2 columns]"
            ]
          },
          "metadata": {
            "tags": []
          },
          "execution_count": 24
        }
      ]
    },
    {
      "cell_type": "markdown",
      "metadata": {
        "id": "KsblX4PsrmOW",
        "colab_type": "text"
      },
      "source": [
        "We can also visualize comparison result as a bar graph using the below script:"
      ]
    },
    {
      "cell_type": "markdown",
      "metadata": {
        "id": "Kh4eX588rmOX",
        "colab_type": "text"
      },
      "source": [
        "Note: As the number of records is huge, for representation purpose I’m taking just 25 records."
      ]
    },
    {
      "cell_type": "code",
      "metadata": {
        "id": "y4LDs8JNrmOX",
        "colab_type": "code",
        "colab": {
          "base_uri": "https://localhost:8080/",
          "height": 594
        },
        "outputId": "a30bb0b9-1b2e-49a6-e8a5-7c2eb3d90c02"
      },
      "source": [
        "df1 = df.head(25)\n",
        "df1.plot(kind='bar',figsize=(16,10))\n",
        "plt.grid(which='major', linestyle='-', linewidth='0.5', color='green')\n",
        "plt.grid(which='minor', linestyle=':', linewidth='0.5', color='black')\n",
        "plt.show()"
      ],
      "execution_count": 25,
      "outputs": [
        {
          "output_type": "display_data",
          "data": {
            "image/png": "[encoded data removed]",
            "text/plain": [
              "<Figure size 1152x720 with 1 Axes>"
            ]
          },
          "metadata": {
            "tags": [],
            "needs_background": "light"
          }
        }
      ]
    },
    {
      "cell_type": "markdown",
      "metadata": {
        "id": "4gsKgQMqrmOb",
        "colab_type": "text"
      },
      "source": [
        "Let's plot our straight line with the test data:"
      ]
    },
    {
      "cell_type": "code",
      "metadata": {
        "id": "9L6oozUyrmOb",
        "colab_type": "code",
        "colab": {
          "base_uri": "https://localhost:8080/",
          "height": 265
        },
        "outputId": "b3b3d229-af68-44ae-febd-14d93aa5281b"
      },
      "source": [
        "plt.scatter(X_test, y_test,  color='gray')\n",
        "plt.plot(X_test, y_pred, color='red', linewidth=2)\n",
        "plt.show()"
      ],
      "execution_count": 26,
      "outputs": [
        {
          "output_type": "display_data",
          "data": {
            "image/png": "[encoded data removed]",
            "text/plain": [
              "<Figure size 432x288 with 1 Axes>"
            ]
          },
          "metadata": {
            "tags": [],
            "needs_background": "light"
          }
        }
      ]
    },
    {
      "cell_type": "markdown",
      "metadata": {
        "id": "PqY_KwslrmOe",
        "colab_type": "text"
      },
      "source": [
        "### Evaluate the Model"
      ]
    },
    {
      "cell_type": "markdown",
      "metadata": {
        "id": "st0XXeqvrmOe",
        "colab_type": "text"
      },
      "source": [
        "The final step is to evaluate the performance of the algorithm. This step is particularly important to compare how well different algorithms perform on a particular dataset. For regression algorithms, three evaluation metrics are commonly used:"
      ]
    },
    {
      "cell_type": "markdown",
      "metadata": {
        "id": "wup4b2w1rmOf",
        "colab_type": "text"
      },
      "source": [
        "1. **Mean Absolute Error** (MAE) is the mean of the absolute value of the errors."
      ]
    },
    {
      "cell_type": "markdown",
      "metadata": {
        "id": "VjB5A_30rmOf",
        "colab_type": "text"
      },
      "source": [
        "2. **Mean Squared Error** (MSE) is the mean of the squared errors."
      ]
    },
    {
      "cell_type": "markdown",
      "metadata": {
        "id": "d73t-MCHrmOg",
        "colab_type": "text"
      },
      "source": [
        "3. **Root Mean Squared Error** (RMSE) is the square root of the mean of the squared errors."
      ]
    },
    {
      "cell_type": "markdown",
      "metadata": {
        "id": "Klkj3BxSrmOh",
        "colab_type": "text"
      },
      "source": [
        "Luckily, we don’t have to perform these calculations manually. The Scikit-Learn library comes with pre-built functions that can be used to find out these values for us."
      ]
    },
    {
      "cell_type": "markdown",
      "metadata": {
        "id": "Nw7pjv6lrmOh",
        "colab_type": "text"
      },
      "source": [
        "Let’s find the values for these metrics using our test data."
      ]
    },
    {
      "cell_type": "code",
      "metadata": {
        "id": "SlK8y8hlrmOi",
        "colab_type": "code",
        "colab": {
          "base_uri": "https://localhost:8080/",
          "height": 70
        },
        "outputId": "21dc6888-6437-4af1-b8ec-cfab7b0ef64b"
      },
      "source": [
        "print('Mean Absolute Error:', metrics.mean_absolute_error(y_test, y_pred))\n",
        "print('Mean Squared Error:', metrics.mean_squared_error(y_test, y_pred))\n",
        "print('Root Mean Squared Error:', np.sqrt(metrics.mean_squared_error(y_test, y_pred)))"
      ],
      "execution_count": 27,
      "outputs": [
        {
          "output_type": "stream",
          "text": [
            "Mean Absolute Error: 1.0300082256839238\n",
            "Mean Squared Error: 1.497012798778942\n",
            "Root Mean Squared Error: 1.223524743835997\n"
          ],
          "name": "stdout"
        }
      ]
    },
    {
      "cell_type": "markdown",
      "metadata": {
        "id": "vlUCtnDprmOl",
        "colab_type": "text"
      },
      "source": [
        "You can see that the value of root mean squared error is 1.22, which is a little less than 10% of the mean value 17.000000. This means that our algorithm is pretty good."
      ]
    }
  ]
}
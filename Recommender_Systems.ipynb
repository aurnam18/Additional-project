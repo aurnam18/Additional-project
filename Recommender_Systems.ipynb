{
  "nbformat": 4,
  "nbformat_minor": 0,
  "metadata": {
    "colab": {
      "name": "Recommender Systems",
      "provenance": [],
      "authorship_tag": "ABX9TyMUKeXMBQtGsGI5gPNukuAM",
      "include_colab_link": true
    },
    "kernelspec": {
      "name": "python3",
      "display_name": "Python 3"
    }
  },
  "cells": [
    {
      "cell_type": "markdown",
      "metadata": {
        "id": "view-in-github",
        "colab_type": "text"
      },
      "source": [
        "<a href=\"https://colab.research.google.com/github/aurnam18/Additional-project/blob/master/Recommender_Systems.ipynb\" target=\"_parent\"><img src=\"https://colab.research.google.com/assets/colab-badge.svg\" alt=\"Open In Colab\"/></a>"
      ]
    },
    {
      "cell_type": "code",
      "metadata": {
        "id": "Nk4e-j_OdFLV",
        "colab_type": "code",
        "colab": {}
      },
      "source": [
        "#import all required libraries\n",
        "import pandas as pd\n",
        "import numpy as np\n",
        "from sklearn.feature_extraction.text import CountVectorizer\n",
        "from sklearn.metrics.pairwise import cosine_similarity"
      ],
      "execution_count": 18,
      "outputs": []
    },
    {
      "cell_type": "markdown",
      "metadata": {
        "id": "mGTNpR4hdlff",
        "colab_type": "text"
      },
      "source": [
        "Following command imports the dataset from the file you downloaded"
      ]
    },
    {
      "cell_type": "code",
      "metadata": {
        "id": "V66s12dFdu-5",
        "colab_type": "code",
        "colab": {}
      },
      "source": [
        "dataset = pd.read_csv('top50.csv')"
      ],
      "execution_count": 27,
      "outputs": []
    },
    {
      "cell_type": "markdown",
      "metadata": {
        "id": "LPDhmh4nZy1O",
        "colab_type": "text"
      },
      "source": [
        "Let’s explore the data a little bit by checking the number of rows and columns in it."
      ]
    },
    {
      "cell_type": "code",
      "metadata": {
        "id": "1f7pUEJVZ2H1",
        "colab_type": "code",
        "colab": {
          "base_uri": "https://localhost:8080/",
          "height": 34
        },
        "outputId": "0ecc4d01-58b2-4da8-db57-d09b153ae253"
      },
      "source": [
        "dataset.shape"
      ],
      "execution_count": 28,
      "outputs": [
        {
          "output_type": "execute_result",
          "data": {
            "text/plain": [
              "(50, 14)"
            ]
          },
          "metadata": {
            "tags": []
          },
          "execution_count": 28
        }
      ]
    },
    {
      "cell_type": "markdown",
      "metadata": {
        "id": "lRxNOSIHZ9wA",
        "colab_type": "text"
      },
      "source": [
        "It will give (50, 14) as output which means our dataset has 50 rows and 14 columns."
      ]
    },
    {
      "cell_type": "code",
      "metadata": {
        "id": "4fwOg2sraDaq",
        "colab_type": "code",
        "colab": {
          "base_uri": "https://localhost:8080/",
          "height": 366
        },
        "outputId": "53b7346a-3b94-497c-c342-d7b623fea3dd"
      },
      "source": [
        "dataset.head()"
      ],
      "execution_count": 29,
      "outputs": [
        {
          "output_type": "execute_result",
          "data": {
            "text/html": [
              "<div>\n",
              "<style scoped>\n",
              "    .dataframe tbody tr th:only-of-type {\n",
              "        vertical-align: middle;\n",
              "    }\n",
              "\n",
              "    .dataframe tbody tr th {\n",
              "        vertical-align: top;\n",
              "    }\n",
              "\n",
              "    .dataframe thead th {\n",
              "        text-align: right;\n",
              "    }\n",
              "</style>\n",
              "<table border=\"1\" class=\"dataframe\">\n",
              "  <thead>\n",
              "    <tr style=\"text-align: right;\">\n",
              "      <th></th>\n",
              "      <th>Unnamed: 0</th>\n",
              "      <th>Track.Name</th>\n",
              "      <th>Artist.Name</th>\n",
              "      <th>Genre</th>\n",
              "      <th>Beats.Per.Minute</th>\n",
              "      <th>Energy</th>\n",
              "      <th>Danceability</th>\n",
              "      <th>Loudness..dB..</th>\n",
              "      <th>Liveness</th>\n",
              "      <th>Valence.</th>\n",
              "      <th>Length.</th>\n",
              "      <th>Acousticness..</th>\n",
              "      <th>Speechiness.</th>\n",
              "      <th>Popularity</th>\n",
              "    </tr>\n",
              "  </thead>\n",
              "  <tbody>\n",
              "    <tr>\n",
              "      <th>0</th>\n",
              "      <td>1</td>\n",
              "      <td>Senorita</td>\n",
              "      <td>Shawn Mendes</td>\n",
              "      <td>canadian pop</td>\n",
              "      <td>117</td>\n",
              "      <td>55</td>\n",
              "      <td>76</td>\n",
              "      <td>-6</td>\n",
              "      <td>8</td>\n",
              "      <td>75</td>\n",
              "      <td>191</td>\n",
              "      <td>4</td>\n",
              "      <td>3</td>\n",
              "      <td>79</td>\n",
              "    </tr>\n",
              "    <tr>\n",
              "      <th>1</th>\n",
              "      <td>2</td>\n",
              "      <td>China</td>\n",
              "      <td>Anuel AA</td>\n",
              "      <td>reggaeton flow</td>\n",
              "      <td>105</td>\n",
              "      <td>81</td>\n",
              "      <td>79</td>\n",
              "      <td>-4</td>\n",
              "      <td>8</td>\n",
              "      <td>61</td>\n",
              "      <td>302</td>\n",
              "      <td>8</td>\n",
              "      <td>9</td>\n",
              "      <td>92</td>\n",
              "    </tr>\n",
              "    <tr>\n",
              "      <th>2</th>\n",
              "      <td>3</td>\n",
              "      <td>boyfriend (with Social House)</td>\n",
              "      <td>Ariana Grande</td>\n",
              "      <td>dance pop</td>\n",
              "      <td>190</td>\n",
              "      <td>80</td>\n",
              "      <td>40</td>\n",
              "      <td>-4</td>\n",
              "      <td>16</td>\n",
              "      <td>70</td>\n",
              "      <td>186</td>\n",
              "      <td>12</td>\n",
              "      <td>46</td>\n",
              "      <td>85</td>\n",
              "    </tr>\n",
              "    <tr>\n",
              "      <th>3</th>\n",
              "      <td>4</td>\n",
              "      <td>Beautiful People (feat. Khalid)</td>\n",
              "      <td>Ed Sheeran</td>\n",
              "      <td>pop</td>\n",
              "      <td>93</td>\n",
              "      <td>65</td>\n",
              "      <td>64</td>\n",
              "      <td>-8</td>\n",
              "      <td>8</td>\n",
              "      <td>55</td>\n",
              "      <td>198</td>\n",
              "      <td>12</td>\n",
              "      <td>19</td>\n",
              "      <td>86</td>\n",
              "    </tr>\n",
              "    <tr>\n",
              "      <th>4</th>\n",
              "      <td>5</td>\n",
              "      <td>Goodbyes (Feat. Young Thug)</td>\n",
              "      <td>Post Malone</td>\n",
              "      <td>dfw rap</td>\n",
              "      <td>150</td>\n",
              "      <td>65</td>\n",
              "      <td>58</td>\n",
              "      <td>-4</td>\n",
              "      <td>11</td>\n",
              "      <td>18</td>\n",
              "      <td>175</td>\n",
              "      <td>45</td>\n",
              "      <td>7</td>\n",
              "      <td>94</td>\n",
              "    </tr>\n",
              "  </tbody>\n",
              "</table>\n",
              "</div>"
            ],
            "text/plain": [
              "   Unnamed: 0                       Track.Name  ... Speechiness. Popularity\n",
              "0           1                         Senorita  ...            3         79\n",
              "1           2                            China  ...            9         92\n",
              "2           3    boyfriend (with Social House)  ...           46         85\n",
              "3           4  Beautiful People (feat. Khalid)  ...           19         86\n",
              "4           5      Goodbyes (Feat. Young Thug)  ...            7         94\n",
              "\n",
              "[5 rows x 14 columns]"
            ]
          },
          "metadata": {
            "tags": []
          },
          "execution_count": 29
        }
      ]
    },
    {
      "cell_type": "markdown",
      "metadata": {
        "id": "zGfa8cAmaspS",
        "colab_type": "text"
      },
      "source": [
        "Track name: name of the track <br />\n",
        "Artist name: name of the artist <br />\n",
        "Genre: type of music"
      ]
    },
    {
      "cell_type": "markdown",
      "metadata": {
        "id": "x-_H-tuxbvxA",
        "colab_type": "text"
      },
      "source": [
        "If you visualize the dataset, you will see that it has many extra info about the songs. We don’t need all of them. So, we choose track name, artist name, and genre column to use as our feature set(the so called “content” of the book)."
      ]
    },
    {
      "cell_type": "code",
      "metadata": {
        "id": "XICkLJBQbxt-",
        "colab_type": "code",
        "colab": {}
      },
      "source": [
        "features = ['Track.Name', 'Artist.Name', 'Genre']"
      ],
      "execution_count": 33,
      "outputs": []
    },
    {
      "cell_type": "markdown",
      "metadata": {
        "id": "3g2yqk6dciL7",
        "colab_type": "text"
      },
      "source": [
        "Our next task is to create a function for combining the values of these columns into a single string."
      ]
    },
    {
      "cell_type": "code",
      "metadata": {
        "id": "3wzBgG1GcouJ",
        "colab_type": "code",
        "colab": {}
      },
      "source": [
        "def combine_features(row):\n",
        " return row['Track.Name']+' '+row['Artist.Name']+' '+row['Genre']"
      ],
      "execution_count": 34,
      "outputs": []
    },
    {
      "cell_type": "markdown",
      "metadata": {
        "id": "sjJRE6sndN86",
        "colab_type": "text"
      },
      "source": [
        "Now, we need to call this function over each row of our dataframe. But, before doing that, we need to clean and preprocess the data for our use. We will fill all the NaN values with blank string in the dataframe."
      ]
    },
    {
      "cell_type": "code",
      "metadata": {
        "id": "dGaHfc2WdPzR",
        "colab_type": "code",
        "colab": {}
      },
      "source": [
        "for feature in features:\n",
        "    #filling all NaNs with blank string\n",
        "    dataset[feature] = dataset[feature].fillna('') \n",
        "#applying combined_features() method over each rows of dataframe and storing the combined string in “combined_features” column\n",
        "dataset['combined_features'] = dataset.apply(combine_features,axis=1) "
      ],
      "execution_count": 35,
      "outputs": []
    },
    {
      "cell_type": "markdown",
      "metadata": {
        "id": "Bq5geupYHwVs",
        "colab_type": "text"
      },
      "source": [
        "**Get the count matrix**"
      ]
    },
    {
      "cell_type": "markdown",
      "metadata": {
        "id": "XmAZ5iBgH42o",
        "colab_type": "text"
      },
      "source": [
        "Now that we have obtained the combined strings, we can now feed these strings to a CountVectorizer() object for getting the count matrix."
      ]
    },
    {
      "cell_type": "code",
      "metadata": {
        "id": "E_LvZmR9H_zI",
        "colab_type": "code",
        "colab": {}
      },
      "source": [
        "#creating new CountVectorizer() object\n",
        "cv = CountVectorizer() \n",
        "#feeding combined strings(movie contents) to CountVectorizer() object\n",
        "count_matrix = cv.fit_transform(dataset['combined_features']) "
      ],
      "execution_count": 36,
      "outputs": []
    },
    {
      "cell_type": "markdown",
      "metadata": {
        "id": "23u62NDYJ7Vm",
        "colab_type": "text"
      },
      "source": [
        "**The cosine similarity matrix**"
      ]
    },
    {
      "cell_type": "markdown",
      "metadata": {
        "id": "Gy_nQxQSKFRR",
        "colab_type": "text"
      },
      "source": [
        "At this point, 60% work is done. Now, we need to obtain the cosine similarity matrix from the count matrix."
      ]
    },
    {
      "cell_type": "code",
      "metadata": {
        "id": "vejufylMKJgx",
        "colab_type": "code",
        "colab": {}
      },
      "source": [
        "cosine_sim = cosine_similarity(count_matrix)"
      ],
      "execution_count": 10,
      "outputs": []
    },
    {
      "cell_type": "markdown",
      "metadata": {
        "id": "4M0q0ieOKOFU",
        "colab_type": "text"
      },
      "source": [
        "**Helper Functions**"
      ]
    },
    {
      "cell_type": "code",
      "metadata": {
        "id": "Qmst-XtcKTdF",
        "colab_type": "code",
        "colab": {}
      },
      "source": [
        "def get_title_from_index(index):\n",
        "    return dataset[dataset.index == index]['Track.Name'].values[0]\n",
        "def get_index_from_title(title):\n",
        "    return dataset[dataset.title == title].index.tolist()[0]"
      ],
      "execution_count": 40,
      "outputs": []
    },
    {
      "cell_type": "markdown",
      "metadata": {
        "id": "TMB8rrerLG6d",
        "colab_type": "text"
      },
      "source": [
        "**Complete the Model**"
      ]
    },
    {
      "cell_type": "code",
      "metadata": {
        "id": "GqTNKnRTMGqQ",
        "colab_type": "code",
        "colab": {
          "base_uri": "https://localhost:8080/",
          "height": 220
        },
        "outputId": "0861f3ba-6f06-4bc2-d61c-6a8ab01a431b"
      },
      "source": [
        "track_name = 'Senorita'\n",
        "track_name_index = get_index_from_Track.Name(track_name)\n",
        "#accessing the row corresponding to given movie to find all the similarity scores for that movie and then enumerating over it\n",
        "similar_movies = list(enumerate(cosine_sim[track_name_index])) "
      ],
      "execution_count": 43,
      "outputs": [
        {
          "output_type": "error",
          "ename": "NameError",
          "evalue": "ignored",
          "traceback": [
            "\u001b[0;31m---------------------------------------------------------------------------\u001b[0m",
            "\u001b[0;31mNameError\u001b[0m                                 Traceback (most recent call last)",
            "\u001b[0;32m<ipython-input-43-0a7b07e21d2c>\u001b[0m in \u001b[0;36m<module>\u001b[0;34m()\u001b[0m\n\u001b[1;32m      1\u001b[0m \u001b[0mtrack_name\u001b[0m \u001b[0;34m=\u001b[0m \u001b[0;34m'Senorita'\u001b[0m\u001b[0;34m\u001b[0m\u001b[0;34m\u001b[0m\u001b[0m\n\u001b[0;32m----> 2\u001b[0;31m \u001b[0mtrack_name_index\u001b[0m \u001b[0;34m=\u001b[0m \u001b[0mget_index_from_Track\u001b[0m\u001b[0;34m.\u001b[0m\u001b[0mName\u001b[0m\u001b[0;34m(\u001b[0m\u001b[0mtrack_name\u001b[0m\u001b[0;34m)\u001b[0m\u001b[0;34m\u001b[0m\u001b[0;34m\u001b[0m\u001b[0m\n\u001b[0m\u001b[1;32m      3\u001b[0m \u001b[0;31m#accessing the row corresponding to given movie to find all the similarity scores for that movie and then enumerating over it\u001b[0m\u001b[0;34m\u001b[0m\u001b[0;34m\u001b[0m\u001b[0;34m\u001b[0m\u001b[0m\n\u001b[1;32m      4\u001b[0m \u001b[0msimilar_movies\u001b[0m \u001b[0;34m=\u001b[0m \u001b[0mlist\u001b[0m\u001b[0;34m(\u001b[0m\u001b[0menumerate\u001b[0m\u001b[0;34m(\u001b[0m\u001b[0mcosine_sim\u001b[0m\u001b[0;34m[\u001b[0m\u001b[0mtrack_name_index\u001b[0m\u001b[0;34m]\u001b[0m\u001b[0;34m)\u001b[0m\u001b[0;34m)\u001b[0m\u001b[0;34m\u001b[0m\u001b[0;34m\u001b[0m\u001b[0m\n",
            "\u001b[0;31mNameError\u001b[0m: name 'get_index_from_Track' is not defined"
          ]
        }
      ]
    }
  ]
}
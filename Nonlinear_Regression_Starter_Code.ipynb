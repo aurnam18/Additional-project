{
  "nbformat": 4,
  "nbformat_minor": 0,
  "metadata": {
    "kernelspec": {
      "display_name": "Python 3",
      "language": "python",
      "name": "python3"
    },
    "language_info": {
      "codemirror_mode": {
        "name": "ipython",
        "version": 3
      },
      "file_extension": ".py",
      "mimetype": "text/x-python",
      "name": "python",
      "nbconvert_exporter": "python",
      "pygments_lexer": "ipython3",
      "version": "3.8.3"
    },
    "colab": {
      "name": "Nonlinear-Regression-Starter-Code.ipynb",
      "provenance": [],
      "toc_visible": true,
      "include_colab_link": true
    }
  },
  "cells": [
    {
      "cell_type": "markdown",
      "metadata": {
        "id": "view-in-github",
        "colab_type": "text"
      },
      "source": [
        "<a href=\"https://colab.research.google.com/github/aurnam18/Additional-project/blob/master/Nonlinear_Regression_Starter_Code.ipynb\" target=\"_parent\"><img src=\"https://colab.research.google.com/assets/colab-badge.svg\" alt=\"Open In Colab\"/></a>"
      ]
    },
    {
      "cell_type": "markdown",
      "metadata": {
        "id": "Ykj9crMbXQsp",
        "colab_type": "text"
      },
      "source": [
        "# Nonlinear Regression (Starter Code)"
      ]
    },
    {
      "cell_type": "markdown",
      "metadata": {
        "id": "-lgaiw6BXQs2",
        "colab_type": "text"
      },
      "source": [
        "Import all the required libraries."
      ]
    },
    {
      "cell_type": "code",
      "metadata": {
        "id": "LnIirXlpXQs5",
        "colab_type": "code",
        "colab": {}
      },
      "source": [
        "import pandas as pd  \n",
        "import numpy as np  \n",
        "import matplotlib.pyplot as plt \n",
        "from sklearn.model_selection import train_test_split \n",
        "from sklearn.linear_model import LinearRegression\n",
        "from sklearn.preprocessing import PolynomialFeatures\n",
        "from sklearn import metrics\n",
        "%matplotlib inline"
      ],
      "execution_count": 1,
      "outputs": []
    },
    {
      "cell_type": "markdown",
      "metadata": {
        "id": "p93UTh-OXQtS",
        "colab_type": "text"
      },
      "source": [
        "### The Dataset"
      ]
    },
    {
      "cell_type": "markdown",
      "metadata": {
        "id": "rQuODASYXQtT",
        "colab_type": "text"
      },
      "source": [
        "The Boston Housing Dataset: The Boston Housing Dataset is a derived from information collected by the U.S. Census Service concerning housing in the area of Boston MA."
      ]
    },
    {
      "cell_type": "markdown",
      "metadata": {
        "id": "nD1A0gJ7XQtX",
        "colab_type": "text"
      },
      "source": [
        "Download Boston_Housing.csv from the link below:"
      ]
    },
    {
      "cell_type": "markdown",
      "metadata": {
        "id": "X96l6bhfXQtY",
        "colab_type": "text"
      },
      "source": [
        "[Link to dataset](http://course1.winona.edu/bdeppa/Stat%20425/Datasets.html)"
      ]
    },
    {
      "cell_type": "markdown",
      "metadata": {
        "id": "_3OvjYsGXQtd",
        "colab_type": "text"
      },
      "source": [
        "The following command imports the dataset from the file you downloaded:"
      ]
    },
    {
      "cell_type": "code",
      "metadata": {
        "id": "4cSwzbpfXQth",
        "colab_type": "code",
        "colab": {}
      },
      "source": [
        "dataset = pd.read_csv('Boston_Housing.csv')"
      ],
      "execution_count": 2,
      "outputs": []
    },
    {
      "cell_type": "markdown",
      "metadata": {
        "id": "RCRjKOmqXQt3",
        "colab_type": "text"
      },
      "source": [
        "Let’s explore the data a little bit by checking the number of rows and columns in it."
      ]
    },
    {
      "cell_type": "code",
      "metadata": {
        "id": "H2s2Q8iDXQt4",
        "colab_type": "code",
        "colab": {
          "base_uri": "https://localhost:8080/",
          "height": 34
        },
        "outputId": "7c27cc9e-4665-4eba-9198-c0addfa18119"
      },
      "source": [
        "dataset.shape"
      ],
      "execution_count": 3,
      "outputs": [
        {
          "output_type": "execute_result",
          "data": {
            "text/plain": [
              "(506, 14)"
            ]
          },
          "metadata": {
            "tags": []
          },
          "execution_count": 3
        }
      ]
    },
    {
      "cell_type": "markdown",
      "metadata": {
        "id": "gpfAP9ObXQuI",
        "colab_type": "text"
      },
      "source": [
        "It will give (506, 15) as output which means our dataset has 506 rows and 15 columns."
      ]
    },
    {
      "cell_type": "markdown",
      "metadata": {
        "id": "yLSmODNMXQuJ",
        "colab_type": "text"
      },
      "source": [
        "To see the statistical details of the dataset, we can use describe():"
      ]
    },
    {
      "cell_type": "code",
      "metadata": {
        "id": "MSgEY8NKXQuK",
        "colab_type": "code",
        "colab": {
          "base_uri": "https://localhost:8080/",
          "height": 263
        },
        "outputId": "a1bc4316-cfbd-451f-89ba-023d8852b718"
      },
      "source": [
        "dataset.describe"
      ],
      "execution_count": 4,
      "outputs": [
        {
          "output_type": "execute_result",
          "data": {
            "text/plain": [
              "<bound method NDFrame.describe of         CRIM    ZN  INDUS  CHAS    NOX  ...  TAX  PTRATIO       B  LSTAT  MEDV\n",
              "0    0.00632  18.0   2.31     0  0.538  ...  296     15.3  396.90   4.98  24.0\n",
              "1    0.02731   0.0   7.07     0  0.469  ...  242     17.8  396.90   9.14  21.6\n",
              "2    0.02729   0.0   7.07     0  0.469  ...  242     17.8  392.83   4.03  34.7\n",
              "3    0.03237   0.0   2.18     0  0.458  ...  222     18.7  394.63   2.94  33.4\n",
              "4    0.06905   0.0   2.18     0  0.458  ...  222     18.7  396.90   5.33  36.2\n",
              "..       ...   ...    ...   ...    ...  ...  ...      ...     ...    ...   ...\n",
              "501  0.06263   0.0  11.93     0  0.573  ...  273     21.0  391.99   9.67  22.4\n",
              "502  0.04527   0.0  11.93     0  0.573  ...  273     21.0  396.90   9.08  20.6\n",
              "503  0.06076   0.0  11.93     0  0.573  ...  273     21.0  396.90   5.64  23.9\n",
              "504  0.10959   0.0  11.93     0  0.573  ...  273     21.0  393.45   6.48  22.0\n",
              "505  0.04741   0.0  11.93     0  0.573  ...  273     21.0  396.90   7.88  11.9\n",
              "\n",
              "[506 rows x 14 columns]>"
            ]
          },
          "metadata": {
            "tags": []
          },
          "execution_count": 4
        }
      ]
    },
    {
      "cell_type": "markdown",
      "metadata": {
        "id": "1DFIwiYtXQub",
        "colab_type": "text"
      },
      "source": [
        "CRIM: per capita crime rate by town <br />\n",
        "ZN: proportion of residential land zoned for lots over 25,000 sq.ft. <br />\n",
        "INDUS: proportion of non-retail business acres per town. <br />\n",
        "CHAS: Charles River dummy variable (1 if tract bounds river; 0 otherwise) <br />\n",
        "NOX: nitric oxides concentration (parts per 10 million) <br />\n",
        "RM: average number of rooms per dwelling <br />\n",
        "AGE: proportion of owner-occupied units built prior to 1940 <br />\n",
        "DIS: weighted distances to five Boston employment centres <br />\n",
        "RAD: index of accessibility to radial highways <br />\n",
        "TAX: full-value property-tax rate per 10000 dollars <br />\n",
        "PTRATIO: pupil-teacher ratio by town <br />\n",
        "B: 1000 times Bk - 0.63 squared where Bk is the proportion of blacks by town <br />\n",
        "LSTAT: percent lower status of the population <br />\n",
        "MEDV: Median value of owner-occupied homes in $1000's"
      ]
    },
    {
      "cell_type": "markdown",
      "metadata": {
        "id": "jO4xihP2XQuc",
        "colab_type": "text"
      },
      "source": [
        "Let us clean our data little bit, So first check which are the columns the contains NaN values in it :"
      ]
    },
    {
      "cell_type": "code",
      "metadata": {
        "id": "_KGQaoMRXQuc",
        "colab_type": "code",
        "colab": {
          "base_uri": "https://localhost:8080/",
          "height": 281
        },
        "outputId": "ae52b53d-ccd4-40f4-8c90-ac2d4d95be79"
      },
      "source": [
        "dataset.isnull().any()"
      ],
      "execution_count": 5,
      "outputs": [
        {
          "output_type": "execute_result",
          "data": {
            "text/plain": [
              "CRIM       False\n",
              "ZN         False\n",
              "INDUS      False\n",
              "CHAS       False\n",
              "NOX        False\n",
              "RM         False\n",
              "AGE        False\n",
              "DIS        False\n",
              "RAD        False\n",
              "TAX        False\n",
              "PTRATIO    False\n",
              "B          False\n",
              "LSTAT      False\n",
              "MEDV       False\n",
              "dtype: bool"
            ]
          },
          "metadata": {
            "tags": []
          },
          "execution_count": 5
        }
      ]
    },
    {
      "cell_type": "markdown",
      "metadata": {
        "id": "CqO0r322XQu2",
        "colab_type": "text"
      },
      "source": [
        "Once the above code is executed, all the columns should give False, In case for any column you find True result, then remove all the null values from that column using below code."
      ]
    },
    {
      "cell_type": "code",
      "metadata": {
        "id": "8qu7Hd3oXQu3",
        "colab_type": "code",
        "colab": {}
      },
      "source": [
        "dataset = dataset.fillna(method='ffill')"
      ],
      "execution_count": 6,
      "outputs": []
    },
    {
      "cell_type": "markdown",
      "metadata": {
        "id": "1vaaHNeeXQvJ",
        "colab_type": "text"
      },
      "source": [
        "### Plot the Data"
      ]
    },
    {
      "cell_type": "markdown",
      "metadata": {
        "id": "JjXG0NtBXQvK",
        "colab_type": "text"
      },
      "source": [
        "Next, let's take a look at lstat vs medv."
      ]
    },
    {
      "cell_type": "code",
      "metadata": {
        "id": "mtl1ffj6XQvL",
        "colab_type": "code",
        "colab": {
          "base_uri": "https://localhost:8080/",
          "height": 279
        },
        "outputId": "c9952561-70b4-4766-e7ca-81034d2a2a04"
      },
      "source": [
        "dataset.plot(x='LSTAT', y='MEDV', style='o')\n",
        "plt.show()"
      ],
      "execution_count": 7,
      "outputs": [
        {
          "output_type": "display_data",
          "data": {
            "image/png": "[encoded data removed]",
            "text/plain": [
              "<Figure size 432x288 with 1 Axes>"
            ]
          },
          "metadata": {
            "tags": [],
            "needs_background": "light"
          }
        }
      ]
    },
    {
      "cell_type": "code",
      "metadata": {
        "id": "rHZWmnBaXQve",
        "colab_type": "code",
        "colab": {}
      },
      "source": [
        "It looks nonlinear."
      ],
      "execution_count": null,
      "outputs": []
    },
    {
      "cell_type": "markdown",
      "metadata": {
        "id": "Vb5Fy-y5XQvp",
        "colab_type": "text"
      },
      "source": [
        "### Split up the Dataset Into Attributes and Labels"
      ]
    },
    {
      "cell_type": "markdown",
      "metadata": {
        "id": "VhWuMiJ8XQvp",
        "colab_type": "text"
      },
      "source": [
        "Our next step is to divide the data into “attributes” and “labels”."
      ]
    },
    {
      "cell_type": "markdown",
      "metadata": {
        "id": "goy0zHaDXQv0",
        "colab_type": "text"
      },
      "source": [
        "Attributes are the independent variables while labels are dependent variables whose values are to be predicted. Our independent variable is lstat and our dependent variable is medv."
      ]
    },
    {
      "cell_type": "markdown",
      "metadata": {
        "id": "OlF-oHmjXQv1",
        "colab_type": "text"
      },
      "source": [
        "We want to predict the median value of the home depending upon the independent variable percent lower status recorded. Therefore our attribute set will consist of \"lstat\" which is stored in the X variable, and the label will be the “medv” column which is stored in y variable."
      ]
    },
    {
      "cell_type": "code",
      "metadata": {
        "id": "WA5v-an8XQv2",
        "colab_type": "code",
        "colab": {}
      },
      "source": [
        "X = np.array(dataset['LSTAT'].values).reshape((-1, 1))\n",
        "y = np.array(dataset['MEDV'].values).reshape((-1, 1))"
      ],
      "execution_count": 12,
      "outputs": []
    },
    {
      "cell_type": "markdown",
      "metadata": {
        "id": "hRPGsz7iXQv5",
        "colab_type": "text"
      },
      "source": [
        "### Split the Dataset Into Train and Test Data"
      ]
    },
    {
      "cell_type": "markdown",
      "metadata": {
        "id": "uQy9rtutXQv6",
        "colab_type": "text"
      },
      "source": [
        "Next, we split 80% of the data to the training set while 20% of the data to test set using below code."
      ]
    },
    {
      "cell_type": "code",
      "metadata": {
        "id": "KU5o7jxrXQv7",
        "colab_type": "code",
        "colab": {}
      },
      "source": [
        "X_train, X_test, y_train, y_test = train_test_split(X, y, test_size=0.2, random_state=0)"
      ],
      "execution_count": 13,
      "outputs": []
    },
    {
      "cell_type": "markdown",
      "metadata": {
        "id": "wmau4es3XQwC",
        "colab_type": "text"
      },
      "source": [
        "### Build and Train the Model"
      ]
    },
    {
      "cell_type": "markdown",
      "metadata": {
        "id": "cgjuUyEbXQwD",
        "colab_type": "text"
      },
      "source": [
        "Now lets train our linear model."
      ]
    },
    {
      "cell_type": "markdown",
      "metadata": {
        "id": "MvM0AHGqXQwG",
        "colab_type": "text"
      },
      "source": [
        "First, let's create a linear regression model to compare to our polynomial regression model."
      ]
    },
    {
      "cell_type": "code",
      "metadata": {
        "id": "fhd8TH36XQwH",
        "colab_type": "code",
        "colab": {
          "base_uri": "https://localhost:8080/",
          "height": 34
        },
        "outputId": "4f6be9d6-30f4-429b-e707-cb94acb56b39"
      },
      "source": [
        "lin_reg = LinearRegression()\n",
        "lin_reg.fit(X_train,y_train)"
      ],
      "execution_count": 14,
      "outputs": [
        {
          "output_type": "execute_result",
          "data": {
            "text/plain": [
              "LinearRegression(copy_X=True, fit_intercept=True, n_jobs=None, normalize=False)"
            ]
          },
          "metadata": {
            "tags": []
          },
          "execution_count": 14
        }
      ]
    },
    {
      "cell_type": "code",
      "metadata": {
        "id": "2yPrInkFXQwN",
        "colab_type": "code",
        "colab": {
          "base_uri": "https://localhost:8080/",
          "height": 295
        },
        "outputId": "c5a7638d-59e8-432a-88a0-3fda8d625e2d"
      },
      "source": [
        "#Visulalize the result for Linear Regression model  \n",
        "plt.scatter(X,y,color='blue')  \n",
        "plt.plot(X, lin_reg.predict((X)), color='red')  \n",
        "plt.title('Linear Regression Graph')  \n",
        "plt.xlabel('LSTAT')  \n",
        "plt.ylabel('MEDV') \n",
        "plt.show()  "
      ],
      "execution_count": 15,
      "outputs": [
        {
          "output_type": "display_data",
          "data": {
            "image/png": "[encoded data removed]",
            "text/plain": [
              "<Figure size 432x288 with 1 Axes>"
            ]
          },
          "metadata": {
            "tags": [],
            "needs_background": "light"
          }
        }
      ]
    },
    {
      "cell_type": "code",
      "metadata": {
        "id": "iJnG2C3_XQwj",
        "colab_type": "code",
        "colab": {}
      },
      "source": [
        "def create_polynomial_regression_model(degree):\n",
        "    \n",
        "    poly_reg = PolynomialFeatures(degree = degree)\n",
        "    X_poly = poly_reg.fit_transform(X_train)\n",
        "    lin_reg = LinearRegression()\n",
        "    lin_reg.fit(X_poly,y_train)\n",
        "    \n",
        "    plt.scatter(X,y,color='blue')  \n",
        "    plt.plot(X, lin_reg.predict(poly_reg.fit_transform(X)), color='red')  \n",
        "    plt.title('Polynomial Regression Graph')  \n",
        "    plt.xlabel('LSTAT')  \n",
        "    plt.ylabel('MEDV') \n",
        "    plt.show()  \n",
        "    \n",
        "    y_pred = lin_reg.predict(poly_reg.fit_transform(X_test))\n",
        "    return y_pred"
      ],
      "execution_count": 18,
      "outputs": []
    },
    {
      "cell_type": "code",
      "metadata": {
        "id": "78AnadjAXQwr",
        "colab_type": "code",
        "colab": {
          "base_uri": "https://localhost:8080/",
          "height": 295
        },
        "outputId": "c9cb1ca2-811c-424d-9b87-010fb53981c6"
      },
      "source": [
        "poly_pred = create_polynomial_regression_model(5)"
      ],
      "execution_count": 36,
      "outputs": [
        {
          "output_type": "display_data",
          "data": {
            "image/png": "[encoded data removed]",
            "text/plain": [
              "<Figure size 432x288 with 1 Axes>"
            ]
          },
          "metadata": {
            "tags": [],
            "needs_background": "light"
          }
        }
      ]
    },
    {
      "cell_type": "markdown",
      "metadata": {
        "id": "aKMYYuXmXQwu",
        "colab_type": "text"
      },
      "source": [
        "### Make Predictions Using the Model"
      ]
    },
    {
      "cell_type": "markdown",
      "metadata": {
        "id": "OZSSuYt9XQwv",
        "colab_type": "text"
      },
      "source": [
        "Now let's do prediction on test data."
      ]
    },
    {
      "cell_type": "code",
      "metadata": {
        "id": "HdN4cExcXQww",
        "colab_type": "code",
        "colab": {
          "base_uri": "https://localhost:8080/",
          "height": 402
        },
        "outputId": "e18f0629-cc88-415c-d2df-b7bd80ae295d"
      },
      "source": [
        "y_pred_lin = lin_reg.predict(X_test)\n",
        "y_pred = poly_pred.flatten()\n",
        "y_test = y_test.flatten()\n",
        "y_pred_lin = y_pred_lin.flatten()\n",
        "df = pd.DataFrame({'Actual': y_test, 'Predicted Linear': y_pred_lin, 'Predicted Poly': y_pred})\n",
        "df"
      ],
      "execution_count": 21,
      "outputs": [
        {
          "output_type": "execute_result",
          "data": {
            "text/html": [
              "<div>\n",
              "<style scoped>\n",
              "    .dataframe tbody tr th:only-of-type {\n",
              "        vertical-align: middle;\n",
              "    }\n",
              "\n",
              "    .dataframe tbody tr th {\n",
              "        vertical-align: top;\n",
              "    }\n",
              "\n",
              "    .dataframe thead th {\n",
              "        text-align: right;\n",
              "    }\n",
              "</style>\n",
              "<table border=\"1\" class=\"dataframe\">\n",
              "  <thead>\n",
              "    <tr style=\"text-align: right;\">\n",
              "      <th></th>\n",
              "      <th>Actual</th>\n",
              "      <th>Predicted Linear</th>\n",
              "      <th>Predicted Poly</th>\n",
              "    </tr>\n",
              "  </thead>\n",
              "  <tbody>\n",
              "    <tr>\n",
              "      <th>0</th>\n",
              "      <td>22.6</td>\n",
              "      <td>27.744574</td>\n",
              "      <td>27.501142</td>\n",
              "    </tr>\n",
              "    <tr>\n",
              "      <th>1</th>\n",
              "      <td>50.0</td>\n",
              "      <td>25.649866</td>\n",
              "      <td>23.568974</td>\n",
              "    </tr>\n",
              "    <tr>\n",
              "      <th>2</th>\n",
              "      <td>23.0</td>\n",
              "      <td>24.722073</td>\n",
              "      <td>22.119457</td>\n",
              "    </tr>\n",
              "    <tr>\n",
              "      <th>3</th>\n",
              "      <td>8.3</td>\n",
              "      <td>15.855433</td>\n",
              "      <td>14.868238</td>\n",
              "    </tr>\n",
              "    <tr>\n",
              "      <th>4</th>\n",
              "      <td>21.2</td>\n",
              "      <td>22.962136</td>\n",
              "      <td>19.809043</td>\n",
              "    </tr>\n",
              "    <tr>\n",
              "      <th>...</th>\n",
              "      <td>...</td>\n",
              "      <td>...</td>\n",
              "      <td>...</td>\n",
              "    </tr>\n",
              "    <tr>\n",
              "      <th>97</th>\n",
              "      <td>24.7</td>\n",
              "      <td>29.246259</td>\n",
              "      <td>30.940566</td>\n",
              "    </tr>\n",
              "    <tr>\n",
              "      <th>98</th>\n",
              "      <td>14.1</td>\n",
              "      <td>17.424072</td>\n",
              "      <td>15.503909</td>\n",
              "    </tr>\n",
              "    <tr>\n",
              "      <th>99</th>\n",
              "      <td>18.7</td>\n",
              "      <td>22.187381</td>\n",
              "      <td>18.958182</td>\n",
              "    </tr>\n",
              "    <tr>\n",
              "      <th>100</th>\n",
              "      <td>28.1</td>\n",
              "      <td>25.793339</td>\n",
              "      <td>23.808427</td>\n",
              "    </tr>\n",
              "    <tr>\n",
              "      <th>101</th>\n",
              "      <td>19.8</td>\n",
              "      <td>23.029090</td>\n",
              "      <td>19.887118</td>\n",
              "    </tr>\n",
              "  </tbody>\n",
              "</table>\n",
              "<p>102 rows × 3 columns</p>\n",
              "</div>"
            ],
            "text/plain": [
              "     Actual  Predicted Linear  Predicted Poly\n",
              "0      22.6         27.744574       27.501142\n",
              "1      50.0         25.649866       23.568974\n",
              "2      23.0         24.722073       22.119457\n",
              "3       8.3         15.855433       14.868238\n",
              "4      21.2         22.962136       19.809043\n",
              "..      ...               ...             ...\n",
              "97     24.7         29.246259       30.940566\n",
              "98     14.1         17.424072       15.503909\n",
              "99     18.7         22.187381       18.958182\n",
              "100    28.1         25.793339       23.808427\n",
              "101    19.8         23.029090       19.887118\n",
              "\n",
              "[102 rows x 3 columns]"
            ]
          },
          "metadata": {
            "tags": []
          },
          "execution_count": 21
        }
      ]
    },
    {
      "cell_type": "markdown",
      "metadata": {
        "id": "rHcUiREPXQw5",
        "colab_type": "text"
      },
      "source": [
        "### Evaluate the Model"
      ]
    },
    {
      "cell_type": "markdown",
      "metadata": {
        "id": "P02a9qHDXQw6",
        "colab_type": "text"
      },
      "source": [
        "The final step is to evaluate the performance of the algorithm. We’ll do this by finding the values for MAE, MSE, and RMSE."
      ]
    },
    {
      "cell_type": "code",
      "metadata": {
        "id": "bYkuFmnuXQw7",
        "colab_type": "code",
        "colab": {
          "base_uri": "https://localhost:8080/",
          "height": 70
        },
        "outputId": "e015ec8b-82e9-4691-8335-92cb1e45d7e3"
      },
      "source": [
        "print('Mean Absolute Error:', metrics.mean_absolute_error(y_test, y_pred))  \n",
        "print('Mean Squared Error:', metrics.mean_squared_error(y_test, y_pred))  \n",
        "print('Root Mean Squared Error:', np.sqrt(metrics.mean_squared_error(y_test, y_pred)))"
      ],
      "execution_count": 37,
      "outputs": [
        {
          "output_type": "stream",
          "text": [
            "Mean Absolute Error: 4.141076675301033\n",
            "Mean Squared Error: 37.22424226843414\n",
            "Root Mean Squared Error: 6.101167287366749\n"
          ],
          "name": "stdout"
        }
      ]
    },
    {
      "cell_type": "code",
      "metadata": {
        "id": "YTraO5sLXQw-",
        "colab_type": "code",
        "colab": {
          "base_uri": "https://localhost:8080/",
          "height": 70
        },
        "outputId": "bd3edbce-2063-4c95-e80e-a2e20e41be05"
      },
      "source": [
        "print('Mean Absolute Error:', metrics.mean_absolute_error(y_test, y_pred_lin))  \n",
        "print('Mean Squared Error:', metrics.mean_squared_error(y_test, y_pred_lin))  \n",
        "print('Root Mean Squared Error:', np.sqrt(metrics.mean_squared_error(y_test, y_pred_lin)))"
      ],
      "execution_count": 38,
      "outputs": [
        {
          "output_type": "stream",
          "text": [
            "Mean Absolute Error: 4.864010561669802\n",
            "Mean Squared Error: 46.336305360025925\n",
            "Root Mean Squared Error: 6.807077593213252\n"
          ],
          "name": "stdout"
        }
      ]
    },
    {
      "cell_type": "code",
      "metadata": {
        "id": "ZEXjnPBQXQxB",
        "colab_type": "code",
        "colab": {}
      },
      "source": [
        "# Make a conclusion about how accurate and trustworthy the algorithm is HERE."
      ],
      "execution_count": null,
      "outputs": []
    }
  ]
}
{
  "nbformat": 4,
  "nbformat_minor": 0,
  "metadata": {
    "kernelspec": {
      "display_name": "Python 3",
      "language": "python",
      "name": "python3"
    },
    "language_info": {
      "codemirror_mode": {
        "name": "ipython",
        "version": 3
      },
      "file_extension": ".py",
      "mimetype": "text/x-python",
      "name": "python",
      "nbconvert_exporter": "python",
      "pygments_lexer": "ipython3",
      "version": "3.8.3"
    },
    "colab": {
      "name": "Copy of Hierarchical-Clustering-Starter-Code.ipynb",
      "provenance": [],
      "toc_visible": true,
      "include_colab_link": true
    }
  },
  "cells": [
    {
      "cell_type": "markdown",
      "metadata": {
        "id": "view-in-github",
        "colab_type": "text"
      },
      "source": [
        "<a href=\"https://colab.research.google.com/github/aurnam18/Additional-project/blob/master/Copy_of_Hierarchical_Clustering_Starter_Code.ipynb\" target=\"_parent\"><img src=\"https://colab.research.google.com/assets/colab-badge.svg\" alt=\"Open In Colab\"/></a>"
      ]
    },
    {
      "cell_type": "markdown",
      "metadata": {
        "id": "nOyn17INl7B7",
        "colab_type": "text"
      },
      "source": [
        "# Hierarchical Clustering Starter Code"
      ]
    },
    {
      "cell_type": "markdown",
      "metadata": {
        "id": "yHLTgdMol7B8",
        "colab_type": "text"
      },
      "source": [
        "Import all the required libraries."
      ]
    },
    {
      "cell_type": "code",
      "metadata": {
        "id": "eQHJiQRnl7B9",
        "colab_type": "code",
        "colab": {}
      },
      "source": [
        "import pandas as pd\n",
        "import numpy as np\n",
        "import matplotlib.pyplot as plt\n",
        "from sklearn.cluster import AgglomerativeClustering\n",
        "from sklearn.preprocessing import normalize\n",
        "import scipy.cluster.hierarchy as shc"
      ],
      "execution_count": 1,
      "outputs": []
    },
    {
      "cell_type": "markdown",
      "metadata": {
        "id": "nKBzediil7CC",
        "colab_type": "text"
      },
      "source": [
        "### The Dataset"
      ]
    },
    {
      "cell_type": "markdown",
      "metadata": {
        "id": "Q-4cHCszl7CD",
        "colab_type": "text"
      },
      "source": [
        "Mall Customers: You are owing a supermarket mall and through membership cards , you have some basic data about your customers like Customer ID, age, gender, annual income and spending score. Spending Score is something you assign to the customer based on your defined parameters like customer behavior and purchasing data."
      ]
    },
    {
      "cell_type": "markdown",
      "metadata": {
        "id": "JPbc-Dsfl7CE",
        "colab_type": "text"
      },
      "source": [
        "[Link to dataset](https://www.kaggle.com/kandij/mall-customers)"
      ]
    },
    {
      "cell_type": "markdown",
      "metadata": {
        "id": "XFb2YG4Xl7CE",
        "colab_type": "text"
      },
      "source": [
        "The following command imports the dataset from the file you downloaded:"
      ]
    },
    {
      "cell_type": "code",
      "metadata": {
        "id": "M0RwXxtal7CF",
        "colab_type": "code",
        "colab": {}
      },
      "source": [
        "dataset = pd.read_csv('mall.csv')"
      ],
      "execution_count": 2,
      "outputs": []
    },
    {
      "cell_type": "markdown",
      "metadata": {
        "id": "bP_YrlBYl7CL",
        "colab_type": "text"
      },
      "source": [
        "Let’s explore the data a little bit by checking the number of rows and columns in it."
      ]
    },
    {
      "cell_type": "code",
      "metadata": {
        "id": "LL1iLhknl7CN",
        "colab_type": "code",
        "colab": {
          "base_uri": "https://localhost:8080/",
          "height": 34
        },
        "outputId": "e7cf1414-03ce-4f1b-a3c6-de2f4978fff8"
      },
      "source": [
        "dataset.shape"
      ],
      "execution_count": 3,
      "outputs": [
        {
          "output_type": "execute_result",
          "data": {
            "text/plain": [
              "(200, 5)"
            ]
          },
          "metadata": {
            "tags": []
          },
          "execution_count": 3
        }
      ]
    },
    {
      "cell_type": "markdown",
      "metadata": {
        "id": "AKNWa_Zzl7CV",
        "colab_type": "text"
      },
      "source": [
        "It will give (200, 5) as output which means our dataset has 200 rows and 5 columns."
      ]
    },
    {
      "cell_type": "markdown",
      "metadata": {
        "id": "BNaANsUYl7CW",
        "colab_type": "text"
      },
      "source": [
        "To see the first five rows of the dataset, we can use head():"
      ]
    },
    {
      "cell_type": "code",
      "metadata": {
        "id": "nA0lMI5Fl7CY",
        "colab_type": "code",
        "colab": {
          "base_uri": "https://localhost:8080/",
          "height": 195
        },
        "outputId": "82631009-73d3-4fe4-8f57-035c41508cb0"
      },
      "source": [
        "dataset.head()"
      ],
      "execution_count": null,
      "outputs": [
        {
          "output_type": "execute_result",
          "data": {
            "text/html": [
              "<div>\n",
              "<style scoped>\n",
              "    .dataframe tbody tr th:only-of-type {\n",
              "        vertical-align: middle;\n",
              "    }\n",
              "\n",
              "    .dataframe tbody tr th {\n",
              "        vertical-align: top;\n",
              "    }\n",
              "\n",
              "    .dataframe thead th {\n",
              "        text-align: right;\n",
              "    }\n",
              "</style>\n",
              "<table border=\"1\" class=\"dataframe\">\n",
              "  <thead>\n",
              "    <tr style=\"text-align: right;\">\n",
              "      <th></th>\n",
              "      <th>CustomerID</th>\n",
              "      <th>Genre</th>\n",
              "      <th>Age</th>\n",
              "      <th>Annual Income (k$)</th>\n",
              "      <th>Spending Score (1-100)</th>\n",
              "    </tr>\n",
              "  </thead>\n",
              "  <tbody>\n",
              "    <tr>\n",
              "      <th>0</th>\n",
              "      <td>1</td>\n",
              "      <td>Male</td>\n",
              "      <td>19</td>\n",
              "      <td>15</td>\n",
              "      <td>39</td>\n",
              "    </tr>\n",
              "    <tr>\n",
              "      <th>1</th>\n",
              "      <td>2</td>\n",
              "      <td>Male</td>\n",
              "      <td>21</td>\n",
              "      <td>15</td>\n",
              "      <td>81</td>\n",
              "    </tr>\n",
              "    <tr>\n",
              "      <th>2</th>\n",
              "      <td>3</td>\n",
              "      <td>Female</td>\n",
              "      <td>20</td>\n",
              "      <td>16</td>\n",
              "      <td>6</td>\n",
              "    </tr>\n",
              "    <tr>\n",
              "      <th>3</th>\n",
              "      <td>4</td>\n",
              "      <td>Female</td>\n",
              "      <td>23</td>\n",
              "      <td>16</td>\n",
              "      <td>77</td>\n",
              "    </tr>\n",
              "    <tr>\n",
              "      <th>4</th>\n",
              "      <td>5</td>\n",
              "      <td>Female</td>\n",
              "      <td>31</td>\n",
              "      <td>17</td>\n",
              "      <td>40</td>\n",
              "    </tr>\n",
              "  </tbody>\n",
              "</table>\n",
              "</div>"
            ],
            "text/plain": [
              "   CustomerID   Genre  Age  Annual Income (k$)  Spending Score (1-100)\n",
              "0           1    Male   19                  15                      39\n",
              "1           2    Male   21                  15                      81\n",
              "2           3  Female   20                  16                       6\n",
              "3           4  Female   23                  16                      77\n",
              "4           5  Female   31                  17                      40"
            ]
          },
          "metadata": {
            "tags": []
          },
          "execution_count": 107
        }
      ]
    },
    {
      "cell_type": "markdown",
      "metadata": {
        "id": "Q0Eftd9El7Cg",
        "colab_type": "text"
      },
      "source": [
        "Our dataset has five columns: CustomerID, Genre, Age, Annual Income, and Spending Score. To view the results in two-dimensional feature space, we will retain only two of these five columns. We can remove CustomerID column, Genre, and Age column. We will retain the Annual Income (in thousands of dollars) and Spending Score (1-100) columns. The Spending Score column signifies how often a person spends money in a mall on a scale of 1 to 100 with 100 being the highest spender. Execute the following script to filter the first three columns from our dataset:"
      ]
    },
    {
      "cell_type": "code",
      "metadata": {
        "id": "4zu9WTYdl7Ch",
        "colab_type": "code",
        "colab": {}
      },
      "source": [
        "# Set dataset equal to the last two columns (Annual Income (k$) and Spending Score (1-100))\n",
        "dataset.drop([\"CustomerID\", \"Genre\", \"Age\"], axis=1, inplace=True)\n"
      ],
      "execution_count": 4,
      "outputs": []
    },
    {
      "cell_type": "markdown",
      "metadata": {
        "id": "SKc9KTifl7Cm",
        "colab_type": "text"
      },
      "source": [
        "Now, we are good to go."
      ]
    },
    {
      "cell_type": "markdown",
      "metadata": {
        "id": "ktdtJC_dl7Cn",
        "colab_type": "text"
      },
      "source": [
        "### The Dendrogram"
      ]
    },
    {
      "cell_type": "markdown",
      "metadata": {
        "id": "phDm4kmvl7Co",
        "colab_type": "text"
      },
      "source": [
        "Let’s first draw the dendrogram to help us decide the number of clusters for this particular problem:"
      ]
    },
    {
      "cell_type": "code",
      "metadata": {
        "id": "I6I5fszyl7Cp",
        "colab_type": "code",
        "colab": {
          "base_uri": "https://localhost:8080/",
          "height": 444
        },
        "outputId": "de613745-7c55-47b2-aadf-506527da5912"
      },
      "source": [
        "plt.figure(figsize=(10, 7))  \n",
        "plt.title(\"Dendrograms\")  \n",
        "dend = shc.dendrogram(shc.linkage(dataset, method='ward'))"
      ],
      "execution_count": 6,
      "outputs": [
        {
          "output_type": "display_data",
          "data": {
            "image/png": "[encoded data removed]",
            "text/plain": [
              "<Figure size 720x504 with 1 Axes>"
            ]
          },
          "metadata": {
            "tags": [],
            "needs_background": "light"
          }
        }
      ]
    },
    {
      "cell_type": "markdown",
      "metadata": {
        "id": "dyxPphSZl7Cu",
        "colab_type": "text"
      },
      "source": [
        "In the script above we import the hierarchy class of the scipy.cluster library as shc. The hierarchy class has a dendrogram method which takes the value returned by the linkage method of the same class. The linkage method takes the dataset and the method to minimize distances as parameters. We use 'ward' as the method since it minimizes then variants of distances between the clusters."
      ]
    },
    {
      "cell_type": "markdown",
      "metadata": {
        "id": "ABSD6jqal7Cv",
        "colab_type": "text"
      },
      "source": [
        "If we draw a horizontal line that passes through longest distance without a horizontal line, we get 5 clusters."
      ]
    },
    {
      "cell_type": "code",
      "metadata": {
        "id": "e2xc800rl7Cw",
        "colab_type": "code",
        "colab": {
          "base_uri": "https://localhost:8080/",
          "height": 462
        },
        "outputId": "c1a83121-5f24-464b-c0a9-6eb277f7f15b"
      },
      "source": [
        "plt.figure(figsize=(10, 7))  \n",
        "plt.title(\"Dendrograms\")  \n",
        "dend = shc.dendrogram(shc.linkage(dataset, method='ward'))\n",
        "plt.axhline(y=150, color='r', linestyle='--')"
      ],
      "execution_count": 8,
      "outputs": [
        {
          "output_type": "execute_result",
          "data": {
            "text/plain": [
              "<matplotlib.lines.Line2D at 0x7f9ba7962550>"
            ]
          },
          "metadata": {
            "tags": []
          },
          "execution_count": 8
        },
        {
          "output_type": "display_data",
          "data": {
            "image/png": "[encoded data removed]",
            "text/plain": [
              "<Figure size 720x504 with 1 Axes>"
            ]
          },
          "metadata": {
            "tags": [],
            "needs_background": "light"
          }
        }
      ]
    },
    {
      "cell_type": "markdown",
      "metadata": {
        "id": "3mu7u6Fql7C0",
        "colab_type": "text"
      },
      "source": [
        "We have five clusters as this line cuts the dendrogram at five points. "
      ]
    },
    {
      "cell_type": "markdown",
      "metadata": {
        "id": "LAvNbVaOl7C1",
        "colab_type": "text"
      },
      "source": [
        "### Create the Agglomerative Clustering Model"
      ]
    },
    {
      "cell_type": "markdown",
      "metadata": {
        "id": "oPWW1A6fl7C1",
        "colab_type": "text"
      },
      "source": [
        "Let’s now apply hierarchical clustering for 5 clusters:"
      ]
    },
    {
      "cell_type": "code",
      "metadata": {
        "id": "Mg5XJP2Ql7C2",
        "colab_type": "code",
        "colab": {
          "base_uri": "https://localhost:8080/",
          "height": 193
        },
        "outputId": "cd1fb7b1-d7fa-4ce6-9571-1a5b2aa1e714"
      },
      "source": [
        "cluster = AgglomerativeClustering(n_clusters=5, affinity='euclidean', linkage='ward')  \n",
        "cluster.fit_predict(dataset)"
      ],
      "execution_count": 10,
      "outputs": [
        {
          "output_type": "execute_result",
          "data": {
            "text/plain": [
              "array([4, 3, 4, 3, 4, 3, 4, 3, 4, 3, 4, 3, 4, 3, 4, 3, 4, 3, 4, 3, 4, 3,\n",
              "       4, 3, 4, 3, 4, 3, 4, 3, 4, 3, 4, 3, 4, 3, 4, 3, 4, 3, 4, 3, 4, 1,\n",
              "       4, 1, 1, 1, 1, 1, 1, 1, 1, 1, 1, 1, 1, 1, 1, 1, 1, 1, 1, 1, 1, 1,\n",
              "       1, 1, 1, 1, 1, 1, 1, 1, 1, 1, 1, 1, 1, 1, 1, 1, 1, 1, 1, 1, 1, 1,\n",
              "       1, 1, 1, 1, 1, 1, 1, 1, 1, 1, 1, 1, 1, 1, 1, 1, 1, 1, 1, 1, 1, 1,\n",
              "       1, 1, 1, 1, 1, 1, 1, 1, 1, 1, 1, 1, 1, 2, 1, 2, 1, 2, 0, 2, 0, 2,\n",
              "       1, 2, 0, 2, 0, 2, 0, 2, 0, 2, 1, 2, 0, 2, 1, 2, 0, 2, 0, 2, 0, 2,\n",
              "       0, 2, 0, 2, 0, 2, 1, 2, 0, 2, 0, 2, 0, 2, 0, 2, 0, 2, 0, 2, 0, 2,\n",
              "       0, 2, 0, 2, 0, 2, 0, 2, 0, 2, 0, 2, 0, 2, 0, 2, 0, 2, 0, 2, 0, 2,\n",
              "       0, 2])"
            ]
          },
          "metadata": {
            "tags": []
          },
          "execution_count": 10
        }
      ]
    },
    {
      "cell_type": "markdown",
      "metadata": {
        "id": "9z1b1q8bl7C9",
        "colab_type": "text"
      },
      "source": [
        "You can see the cluster labels from all of your data points. Since we had five clusters, we have five labels in the output i.e. 0 to 4. Let’s now visualize the five clusters:"
      ]
    },
    {
      "cell_type": "code",
      "metadata": {
        "id": "PMZrU518l7C9",
        "colab_type": "code",
        "colab": {
          "base_uri": "https://localhost:8080/",
          "height": 446
        },
        "outputId": "4ec00a06-1c42-4293-fe51-a5093194c424"
      },
      "source": [
        "plt.figure(figsize=(10, 7))  \n",
        "plt.scatter(dataset['Annual Income (k$)'], dataset['Spending Score (1-100)'], c=cluster.labels_) "
      ],
      "execution_count": 11,
      "outputs": [
        {
          "output_type": "execute_result",
          "data": {
            "text/plain": [
              "<matplotlib.collections.PathCollection at 0x7f9ba4e71f60>"
            ]
          },
          "metadata": {
            "tags": []
          },
          "execution_count": 11
        },
        {
          "output_type": "display_data",
          "data": {
            "image/png": "[encoded data removed]",
            "text/plain": [
              "<Figure size 720x504 with 1 Axes>"
            ]
          },
          "metadata": {
            "tags": [],
            "needs_background": "light"
          }
        }
      ]
    },
    {
      "cell_type": "markdown",
      "metadata": {
        "id": "W8C_uekHl7DB",
        "colab_type": "text"
      },
      "source": [
        "Awesome! We can clearly visualize the five clusters here. This is how we can implement hierarchical clustering in Python."
      ]
    }
  ]
}